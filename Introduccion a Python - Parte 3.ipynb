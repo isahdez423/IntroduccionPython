{
 "cells": [
  {
   "cell_type": "markdown",
   "id": "5dc5c1d3",
   "metadata": {},
   "source": [
    "# Taller de verano: Introducción a Python - Parte 3"
   ]
  },
  {
   "cell_type": "markdown",
   "id": "873cb39c",
   "metadata": {},
   "source": [
    "<img src = \"https://www.python.org/static/community_logos/python-logo-inkscape.svg\" alt = \"Python Logo\" width = \"70%\">  </img>\n"
   ]
  },
  {
   "cell_type": "markdown",
   "id": "a8949c56",
   "metadata": {},
   "source": [
    "# 4. Colecciones\n",
    "---\n",
    "\n",
    "Las colecciones son tipos de datos que permiten almacenar múltiples valores en una misma variable. Las distintas maneras en que se organizan estos datos para su lectura y escritura se conocen como **estructuras de datos**. *Python* tiene 3 estructuras definidas como primitivas por defecto del lenguaje, que pueden ser definidas con sintaxis especial. \n",
    "\n",
    "Una colección de datos en programación almacena 2 o más elementos en un arreglo con distintos números de índex, por lo que nos ayuda a agrupar elementos que tengan algo que ver unos con los otros. Existen cuatro tipos de colecciones de datos en el lenguaje Python:\n",
    "\n",
    "* **Lista:** es una colección ordenada y modificable. Permite datos duplicados.\n",
    "* **Tupla:** es una colección ordenada e inmutable. Permite datos duplicados.\n",
    "* **Set:** es una colección que no posee un órden ni un índex. No existen datos duplicados.\n",
    "* **Dictionary:** es una colección sin orden, modificable e indexada. No permite datos duplicados."
   ]
  },
  {
   "cell_type": "markdown",
   "id": "f58396f4",
   "metadata": {},
   "source": [
    "## 4.1 Listas\n",
    "---\n",
    "Las listas son el tipo de colección más común. Son estructuras de datos ordenadas con longitud variable. Esto quiere decir, que tras su declaración se pueden agregar o eliminar elementos específicos de su contenido. Además, estos elementos ocupan una posición definida secuencialmente, siendo el primer elemento el que ocupa la posición **`0`**.\n",
    "\n",
    "Existen dos formas de declarar listas en *Python*:\n",
    "*   Con llaves cuadradas. &nbsp;&nbsp; **Ejemplo:** `l = []`\n",
    "*   Con la función **`list`**. &nbsp;&nbsp;&nbsp;&nbsp; **Ejemplo:** `l = list()`\n",
    "\n",
    "En el momento de su definición, se pueden definir valores por defecto, separados por coma."
   ]
  },
  {
   "cell_type": "code",
   "execution_count": 2,
   "id": "1dfb1fc2",
   "metadata": {},
   "outputs": [
    {
     "name": "stdout",
     "output_type": "stream",
     "text": [
      "[1, 'Hola', 4.5]\n"
     ]
    },
    {
     "data": {
      "text/plain": [
       "list"
      ]
     },
     "execution_count": 2,
     "metadata": {},
     "output_type": "execute_result"
    }
   ],
   "source": [
    "l = [1, 'Hola', 4.5]\n",
    "print(l)\n",
    "type(l)"
   ]
  },
  {
   "cell_type": "markdown",
   "id": "317771dd",
   "metadata": {},
   "source": [
    "Las listas en Python son:\n",
    "\n",
    "* **`Heterogéneas:`** Pueden estar conformadas por elementos de distintos tipo, incluyendo otras listas.\n",
    "* **`Mutables:`** Sus elementos pueden modificarse."
   ]
  },
  {
   "cell_type": "code",
   "execution_count": 5,
   "id": "2746eff1",
   "metadata": {},
   "outputs": [
    {
     "name": "stdout",
     "output_type": "stream",
     "text": [
      "[1, 2.5, [4, 5, 6, 7], 'Fin']\n"
     ]
    },
    {
     "data": {
      "text/plain": [
       "list"
      ]
     },
     "execution_count": 5,
     "metadata": {},
     "output_type": "execute_result"
    }
   ],
   "source": [
    "l = [1, 2.5, [4, 5, 6, 7], \"Fin\"]\n",
    "print(l)\n",
    "type(l)"
   ]
  },
  {
   "cell_type": "markdown",
   "id": "6a591ccf",
   "metadata": {},
   "source": [
    "Los elementos de una lista pueden accederse mediante su índice, siendo 0 el índice del primer elemento."
   ]
  },
  {
   "cell_type": "code",
   "execution_count": 4,
   "id": "fa7d6fd1",
   "metadata": {},
   "outputs": [
    {
     "name": "stdout",
     "output_type": "stream",
     "text": [
      "Hola\n"
     ]
    }
   ],
   "source": [
    "print(l[1])"
   ]
  },
  {
   "cell_type": "markdown",
   "id": "453fb0a9",
   "metadata": {},
   "source": [
    "Se pueden realizar operaciones entre listas mediante algunos operadores. Es importante tener en cuenta los tipos de dato, pues símbolos como estos funcionan de manera distinta en relación al tipo de dato que manejan. Estos operadores básicos son:\n",
    "\n",
    "*   **Concatenación `+`**: Al aplicar este operador, se agregan los elementos de la segunda lista al final de la primera.\n",
    "*   **Repetición `*`**: Al aplicar este operador, se repiten los elementos la cantidad de veces expresada en el segundo operando."
   ]
  },
  {
   "cell_type": "code",
   "execution_count": 6,
   "id": "9651023a",
   "metadata": {},
   "outputs": [],
   "source": [
    "l_a = [1, 2, 3]\n",
    "l_b = ['a', 'b', 'c']"
   ]
  },
  {
   "cell_type": "code",
   "execution_count": null,
   "id": "79534a29",
   "metadata": {},
   "outputs": [],
   "source": [
    "# Concatenar"
   ]
  },
  {
   "cell_type": "code",
   "execution_count": 8,
   "id": "3c5f8e1b",
   "metadata": {},
   "outputs": [],
   "source": [
    "# Repetición"
   ]
  },
  {
   "cell_type": "markdown",
   "id": "2c0dcd6e",
   "metadata": {},
   "source": [
    "#### Algunos comandos de la lista de metodos:\n",
    "\n",
    "Métodos |Descripción \n",
    "-----|-----\n",
    " append(elemento)| agregar elemento al final de la lista\n",
    " extend(lis2)| Extiende la lista con los elementos de la lista 2\n",
    " index(element)|Devuelve el índice más bajo de la lista que contiene el elemento.\n",
    " insert(index,element)|Inserta un elemento para el indice index\n",
    " pop(i) |  Elimina y retorna el elemento en la posición **`i`**\n",
    " reverse(element)|Invierte la lista de lugar\n",
    " remove(element)|Elimina la primera aparición del elemento de la lista\n",
    " sort()|Clasifica la lista en lugar\n",
    " copy()|Retorna la copia de la lista\n",
    " count(element)|Retorna el némero de elementos igual al elemento de la lista"
   ]
  },
  {
   "cell_type": "markdown",
   "id": "3bf7a662",
   "metadata": {},
   "source": [
    "#### Utilizar los metodos:"
   ]
  },
  {
   "cell_type": "markdown",
   "id": "f2798367",
   "metadata": {},
   "source": [
    "#### Interando listas"
   ]
  },
  {
   "cell_type": "code",
   "execution_count": 1,
   "id": "8a85e954",
   "metadata": {},
   "outputs": [
    {
     "name": "stdout",
     "output_type": "stream",
     "text": [
      "manzana\n",
      "banana\n",
      "cereza\n"
     ]
    }
   ],
   "source": [
    "lista = [\"manzana\", \"banana\", \"cereza\"]\n",
    "for x in lista:\n",
    "  print(x)"
   ]
  },
  {
   "cell_type": "markdown",
   "id": "4adb768f",
   "metadata": {},
   "source": [
    "## 4.2 Tuplas\n",
    "---\n",
    "\n",
    "Son similares a las listas, pero lo que las diferencia es que estas son inmutables, esto quiere decir que no puede modificarse de ninguna forma después de que sean creadas. Los elementos de tupla están ordenados y permiten valores duplicados. Las tuplas se pueden definir de dos formas:"
   ]
  },
  {
   "cell_type": "code",
   "execution_count": 4,
   "id": "f0669d6c",
   "metadata": {},
   "outputs": [],
   "source": [
    "tupla = (1,2,3,4)\n",
    "\n",
    "# También de esta forma\n",
    "\n",
    "tupla = tuple((1, 2, 3, 4))"
   ]
  },
  {
   "cell_type": "markdown",
   "id": "962d8ddd",
   "metadata": {},
   "source": [
    "Para acceder a un valor dada una posición se realiza igual que con las listas, se escribe el nombre de la tupla seguido de apertura de corchetes, posición que buscamos y cierre de corchetes."
   ]
  },
  {
   "cell_type": "code",
   "execution_count": 6,
   "id": "898a3406",
   "metadata": {},
   "outputs": [
    {
     "name": "stdout",
     "output_type": "stream",
     "text": [
      "2\n"
     ]
    }
   ],
   "source": [
    "tupla = tuple((1,2,3, 'r'))\n",
    "print(tupla[1])"
   ]
  },
  {
   "cell_type": "markdown",
   "id": "bf889510",
   "metadata": {},
   "source": [
    "Se pueden recorrer los elementos de una tupla con for:"
   ]
  },
  {
   "cell_type": "code",
   "execution_count": 8,
   "id": "f28d3b0c",
   "metadata": {},
   "outputs": [
    {
     "name": "stdout",
     "output_type": "stream",
     "text": [
      "1 2 3 r "
     ]
    }
   ],
   "source": [
    "for dato in tupla:\n",
    "    print(dato, end=\" \")"
   ]
  },
  {
   "cell_type": "markdown",
   "id": "e1a495fa",
   "metadata": {},
   "source": [
    "### Funciones de las tuplas:"
   ]
  },
  {
   "cell_type": "markdown",
   "id": "6480d2ce",
   "metadata": {},
   "source": [
    "Longitud de una tupla"
   ]
  },
  {
   "cell_type": "code",
   "execution_count": 15,
   "id": "ec63f6ed",
   "metadata": {},
   "outputs": [
    {
     "data": {
      "text/plain": [
       "4"
      ]
     },
     "execution_count": 15,
     "metadata": {},
     "output_type": "execute_result"
    }
   ],
   "source": [
    "tup = (1,2,13,-50)\n",
    "len(tup)"
   ]
  },
  {
   "cell_type": "markdown",
   "id": "c5988343",
   "metadata": {},
   "source": [
    "Máximo de una tupla"
   ]
  },
  {
   "cell_type": "code",
   "execution_count": 13,
   "id": "760888cb",
   "metadata": {},
   "outputs": [
    {
     "data": {
      "text/plain": [
       "13"
      ]
     },
     "execution_count": 13,
     "metadata": {},
     "output_type": "execute_result"
    }
   ],
   "source": [
    "tup = (1,2,13,-50)\n",
    "max(tup)"
   ]
  },
  {
   "cell_type": "markdown",
   "id": "ec55873a",
   "metadata": {},
   "source": [
    "Minimo de una tupla"
   ]
  },
  {
   "cell_type": "code",
   "execution_count": 12,
   "id": "969719d3",
   "metadata": {},
   "outputs": [
    {
     "data": {
      "text/plain": [
       "-50"
      ]
     },
     "execution_count": 12,
     "metadata": {},
     "output_type": "execute_result"
    }
   ],
   "source": [
    "tup = (1,2,13,-50)\n",
    "min(tup)"
   ]
  },
  {
   "cell_type": "markdown",
   "id": "e992b46d",
   "metadata": {},
   "source": [
    "## 4.3 Set\n",
    "---\n",
    "Los conjuntos se utilizan para almacenar varios elementos en una sola variable. Un conjunto es una colección desordenada , inmutable* y no indexada.\n",
    "\n",
    "> **Nota:** Los elementos establecidos no se pueden modificar, pero puede eliminar elementos y agregar elementos nuevos."
   ]
  },
  {
   "cell_type": "code",
   "execution_count": null,
   "id": "78405339",
   "metadata": {},
   "outputs": [],
   "source": [
    "vocales = {'a', 'e', 'i', 'o', 'u', 'a', 'a', 'o', 'e'}\n",
    "print(vocales)"
   ]
  },
  {
   "cell_type": "markdown",
   "id": "abb9aa89",
   "metadata": {},
   "source": [
    "Dado que los conjuntos son colecciones desordenadas, en ellos no se guarda la posición en la que son insertados los elementos como ocurre en los tipos lista o tuplas. Es por ello que no se puede acceder a los elementos a través de un índice.\n",
    "\n",
    "Sin embargo, haciendo uso de un bucle for se puede acceder y/o recorrer todos los elementos del conjunto."
   ]
  },
  {
   "cell_type": "code",
   "execution_count": 2,
   "id": "aa063901",
   "metadata": {},
   "outputs": [
    {
     "ename": "SyntaxError",
     "evalue": "invalid syntax (Temp/ipykernel_1032/3960885320.py, line 3)",
     "output_type": "error",
     "traceback": [
      "\u001b[1;36m  File \u001b[1;32m\"C:\\Users\\Lenovo\\AppData\\Local\\Temp/ipykernel_1032/3960885320.py\"\u001b[1;36m, line \u001b[1;32m3\u001b[0m\n\u001b[1;33m    print(vocales{2})\u001b[0m\n\u001b[1;37m                 ^\u001b[0m\n\u001b[1;31mSyntaxError\u001b[0m\u001b[1;31m:\u001b[0m invalid syntax\n"
     ]
    }
   ],
   "source": [
    "print(vocales{2})"
   ]
  },
  {
   "cell_type": "code",
   "execution_count": 4,
   "id": "609fcaad",
   "metadata": {},
   "outputs": [
    {
     "name": "stdout",
     "output_type": "stream",
     "text": [
      "u\n",
      "a\n",
      "e\n",
      "i\n",
      "o\n"
     ]
    }
   ],
   "source": [
    "for e in vocales:\n",
    "    print(e)"
   ]
  },
  {
   "cell_type": "markdown",
   "id": "d6964489",
   "metadata": {},
   "source": [
    "Metodos para utilizar en conjuntos."
   ]
  },
  {
   "cell_type": "markdown",
   "id": "3c855065",
   "metadata": {},
   "source": [
    "### Agregar elementos\n",
    "\n",
    "Una vez que se crea un conjunto, no puede cambiar sus elementos, pero puede agregar nuevos elementos.\n",
    "Para agregar un elemento a un conjunto, utilice el método **`add()`**."
   ]
  },
  {
   "cell_type": "code",
   "execution_count": 9,
   "id": "2c68a6f8",
   "metadata": {},
   "outputs": [
    {
     "name": "stdout",
     "output_type": "stream",
     "text": [
      "{'manzana', 'cereza', 'mango', 'fresa'}\n"
     ]
    }
   ],
   "source": [
    "conjunto = {\"manzana\", \"cereza\", \"fresa\"}\n",
    "\n",
    "conjunto.add(\"mango\")\n",
    "\n",
    "print(conjunto)"
   ]
  },
  {
   "cell_type": "markdown",
   "id": "c47f4705",
   "metadata": {},
   "source": [
    "### Agregar conjuntos\n",
    "\n",
    "\n",
    "Para agregar elementos de otro conjunto al conjunto actual, utilice el método **`update()`**, se puede tomar como argumento una lista, tupla, string, conjunto o cualquier objeto de tipo iterable."
   ]
  },
  {
   "cell_type": "code",
   "execution_count": 11,
   "id": "f2de0c7f",
   "metadata": {},
   "outputs": [
    {
     "name": "stdout",
     "output_type": "stream",
     "text": [
      "{'fresa', 'manzana', 'naranja', 'cereza', 'kiwi'}\n"
     ]
    }
   ],
   "source": [
    "conjunto = {\"manzana\", \"cereza\", \"fresa\"}\n",
    "lista = [\"kiwi\", \"naranja\"]\n",
    "\n",
    "conjunto.update(lista)\n",
    "\n",
    "print(conjunto)"
   ]
  },
  {
   "cell_type": "markdown",
   "id": "875eff6a",
   "metadata": {},
   "source": [
    "#### Algunos comandos de la lista de metodos:\n",
    "\n",
    "Métodos |Descripción \n",
    "-----|-----\n",
    " add()| Añade un elemento\n",
    " clear() | Remueve todos los elementos\n",
    " copy() | Entrega una copia del set\n",
    " difference() |Entrega un set conteniendo los miembros diferentes entre dos o más sets\n",
    " difference_update() | \tRemueve los elementos en este set que también se incluyen en otro set específico\n",
    " discard()\t| Elimina, si existe, el elemento del conjunto.\n",
    "intersection()\t|Entrega un set, que es la intersección de otros dos sets\n",
    "intersec_update()|\tRemueve los elementos en este set que no se encuentran presentes en otro set específico.\n",
    "isdisjoint()\t|Entrega si dos sets tienen una intersección o no\n",
    "issubset()\t|Entrega si otro set contiene este set o no\n",
    "issuperset()\t|Entrega si este set contiene otro set o no\n",
    "pop()\t| \tObtiene y elimina un elemento de forma aleatoria del conjunto\n",
    "remove()\t| \tElimina el elemento del conjunto. Si no existe lanza un error.\n",
    "symmetric_difference()\t|Entrega un set con la diferencia simétrica de dos sets\n",
    "union()\t|Entrega un set que contiene la unión de dos sets\n",
    "update()\t|Actualiza el set con la unión de éste y otros sets\n",
    " "
   ]
  },
  {
   "cell_type": "markdown",
   "id": "449de9eb",
   "metadata": {},
   "source": [
    "### Unir dos conjuntos\n",
    "\n",
    "Hay varias formas de unir dos o más conjuntos en Python.\n",
    "\n",
    "Puede usar el método `union()` que devuelve un nuevo conjunto que contiene todos los elementos de ambos conjuntos, o el método `update()` que inserta todos los elementos de un conjunto en otro:"
   ]
  },
  {
   "cell_type": "code",
   "execution_count": 12,
   "id": "659ebcf3",
   "metadata": {},
   "outputs": [
    {
     "name": "stdout",
     "output_type": "stream",
     "text": [
      "{1, 2, 'a', 3, 'b', 'c'}\n"
     ]
    }
   ],
   "source": [
    "set1 = {\"a\", \"b\" , \"c\"}\n",
    "set2 = {1, 2, 3}\n",
    "\n",
    "set3 = set1.union(set2)\n",
    "print(set3)"
   ]
  },
  {
   "cell_type": "markdown",
   "id": "0ec50b0a",
   "metadata": {},
   "source": [
    "El método `update()` inserta los elementos en set2 en set1:\n"
   ]
  },
  {
   "cell_type": "code",
   "execution_count": null,
   "id": "8ef7ba10",
   "metadata": {},
   "outputs": [],
   "source": [
    "set1 = {\"a\", \"b\" , \"c\"}\n",
    "set2 = {1, 2, 3}\n",
    "\n",
    "set1.update(set2)\n",
    "print(set1)"
   ]
  },
  {
   "cell_type": "markdown",
   "id": "203c8f2e",
   "metadata": {},
   "source": [
    "## 4.4 Diccionarios\n",
    "---\n",
    "Un diccionario de Python es una estructura de datos para almacenar grupos de objetos. Consiste en un mapeo de pares clave-valor, donde cada clave está asociada a un valor. Puede contener tipos de datos iguales o diferentes, no está ordenado y es mutable."
   ]
  },
  {
   "cell_type": "code",
   "execution_count": 26,
   "id": "eb19a036",
   "metadata": {},
   "outputs": [
    {
     "name": "stdout",
     "output_type": "stream",
     "text": [
      "{'Analisis': 10, 'Algebra': 25, 'Fundamentos': 30, 'Discretas': 14, 'Multivariable': 27, 'Etica': 35} \n",
      "\n",
      "dict_keys(['Analisis', 'Algebra', 'Fundamentos', 'Discretas', 'Multivariable', 'Etica']) \n",
      "\n",
      "dict_values([10, 25, 30, 14, 27, 35]) \n",
      "\n",
      "dict_items([('Analisis', 10), ('Algebra', 25), ('Fundamentos', 30), ('Discretas', 14), ('Multivariable', 27), ('Etica', 35)]) \n",
      "\n"
     ]
    }
   ],
   "source": [
    "clases = {\n",
    "    \"Analisis\": 10,\n",
    "    \"Algebra\": 25,\n",
    "    \"Fundamentos\": 30,\n",
    "    \"Discretas\": 14,\n",
    "    \"Multivariable\": 27,\n",
    "    \"Etica\": 35\n",
    "}\n",
    "\n",
    "print(clases,\"\\n\")\n",
    "print(clases.keys(),\"\\n\")\n",
    "print(clases.values(),\"\\n\")\n",
    "print(clases.items(),\"\\n\")"
   ]
  },
  {
   "cell_type": "markdown",
   "id": "0f9e450b",
   "metadata": {},
   "source": [
    "### Metodos para diccionarios\n",
    "### Agregar un elemento\n",
    "Para agregar un nuevo par de valores clave o actualizar uno existente en un diccionario de Python, puede usar el operador **`[ ]`** e ingresar la clave para actualizar o agregar y seguirlo con un **`=`** y el valor.\n",
    "\n",
    "* **`update ( ):`**  Función dedicada para agregar o actualizar un par de valores. Toma otro diccionario como argumento, lista o tupla que representa los pares de valores clave.\n",
    "* **`setdefault ( ):`** Sirve para agregar un nuevo elemento a nuestro diccionario.\n",
    "* **`pop ( ):`** Este método remueve específicamente una clave de diccionario y devuelve su valor correspondiente. Si no lo encuentra, devuelve error.\n",
    "* **`popitem ( ):`** Este método remueve y devuelve algún par (clave, valor) del diccionario como una 2 tuplas. Lanza una excepción KeyError si el diccionario esta vació.\n",
    "* **`get ( ):`** Recibe como parámetro una clave, devuelve el valor de la clave. Si no lo encuentra, devuelve un objeto none.\n",
    "* **`copy ( ):`** Retorna una copia del diccionario original.\n",
    "* **`clear ( ):`** Elimina todos los ítems del diccionario dejándolo vacío.\n",
    "* **`zip ( ):`** Recibe como parámetro dos elementos iterables, ya sea una cadena, una lista o una tupla. Ambos parámetros deben tener el mismo número de elementos. Se devolverá un diccionario relacionando el elemento i-esimo de cada uno de los iterables."
   ]
  },
  {
   "cell_type": "code",
   "execution_count": 12,
   "id": "4f0a53bd",
   "metadata": {},
   "outputs": [
    {
     "name": "stdout",
     "output_type": "stream",
     "text": [
      "{'a': 1, 'b': 2, 'c': 3, 'd': 4}\n"
     ]
    }
   ],
   "source": [
    "clases = {\n",
    "    \"Analisis\": 10,\n",
    "    \"Algebra\": 25,\n",
    "    \"Fundamentos\": 30,\n",
    "    \"Discretas\": 14,\n",
    "    \"Multivariable\": 27,\n",
    "    \"Etica\": 35\n",
    "}\n",
    "\n",
    "# Agregar un elemento\n",
    "\n",
    "# Eliminar un elemento\n",
    "\n",
    "#Zip\n",
    "\n",
    "dic = dict(zip('abcd',[1,2,3,4]))\n",
    "print(dic)"
   ]
  },
  {
   "cell_type": "markdown",
   "id": "7ac9c7b7",
   "metadata": {},
   "source": [
    "### Iterando en diccionarios"
   ]
  },
  {
   "cell_type": "code",
   "execution_count": 5,
   "id": "65aa9fbd",
   "metadata": {},
   "outputs": [
    {
     "name": "stdout",
     "output_type": "stream",
     "text": [
      "Analisis\n",
      "Algebra\n",
      "Fundamentos\n",
      "Discretas\n",
      "Multivariable\n",
      "Etica\n"
     ]
    }
   ],
   "source": [
    "# Imprime los key del diccionario\n",
    "for key in clases:\n",
    "    print(key)"
   ]
  },
  {
   "cell_type": "code",
   "execution_count": 18,
   "id": "62039e00",
   "metadata": {},
   "outputs": [
    {
     "name": "stdout",
     "output_type": "stream",
     "text": [
      "Metodo 1 \n",
      "\n",
      "10\n",
      "25\n",
      "30\n",
      "14\n",
      "27\n",
      "35\n",
      "\n",
      "Metodo 2 \n",
      "\n",
      "10\n",
      "25\n",
      "30\n",
      "14\n",
      "27\n",
      "35\n"
     ]
    }
   ],
   "source": [
    "print(\"Metodo 1 \\n\")\n",
    "# Imprime los value del diccionario\n",
    "for key in clases:\n",
    "    print(clases[key])\n",
    "\n",
    "print(\"\")\n",
    "print(\"Metodo 2 \\n\")\n",
    "# Otro metodo\n",
    "for value in clases.values():\n",
    "    print(value)"
   ]
  },
  {
   "cell_type": "code",
   "execution_count": 8,
   "id": "4a4a0124",
   "metadata": {},
   "outputs": [
    {
     "name": "stdout",
     "output_type": "stream",
     "text": [
      "Analisis 10\n",
      "Algebra 25\n",
      "Fundamentos 30\n",
      "Discretas 14\n",
      "Multivariable 27\n",
      "Etica 35\n"
     ]
    }
   ],
   "source": [
    "# Imprime los key y value del diccionario\n",
    "for x, y in clases.items():\n",
    "    print(x, y)"
   ]
  },
  {
   "cell_type": "code",
   "execution_count": 25,
   "id": "952e0b6b",
   "metadata": {},
   "outputs": [
    {
     "name": "stdout",
     "output_type": "stream",
     "text": [
      "[3.99, 4.99, 5.5]\n",
      "3.99\n"
     ]
    }
   ],
   "source": [
    "# Diccionario con lista\n",
    "\n",
    "grocery_items = {\"eggs\": [3.99, 4.99, 5.50],\n",
    "                 \"banana\": 1.49,\n",
    "                 \"cheese\": 4.5,\n",
    "                 \"eggplant\": 2.5,\n",
    "                \"bread\": 3.99}\n",
    "\n",
    "s = grocery_items[\"eggs\"]\n",
    "print(s)\n",
    "s = grocery_items[\"eggs\"][0]\n",
    "print(s)"
   ]
  },
  {
   "cell_type": "markdown",
   "id": "684453d8",
   "metadata": {},
   "source": [
    "## 5. Excepciones"
   ]
  },
  {
   "cell_type": "markdown",
   "id": "3e9865bb",
   "metadata": {},
   "source": [
    "Las excepciones en Python son una herramienta muy potente que la gran mayoría de lenguajes de programación modernos tienen. Se trata de una forma de controlar el comportamiento de un programa cuando se produce un error.\n",
    "\n",
    "Imaginemos ahora que por cualquier motivo se quieren dividir nos variables (a/b), y que por ejemplo b tiene el valor 0. Si intentamos hacer la división entre cero, este programa dará un error y su ejecución terminará de manera abrupta."
   ]
  },
  {
   "cell_type": "code",
   "execution_count": 15,
   "id": "6fbcd9aa",
   "metadata": {},
   "outputs": [
    {
     "ename": "ZeroDivisionError",
     "evalue": "division by zero",
     "output_type": "error",
     "traceback": [
      "\u001b[1;31m---------------------------------------------------------------------------\u001b[0m",
      "\u001b[1;31mZeroDivisionError\u001b[0m                         Traceback (most recent call last)",
      "\u001b[1;32m~\\AppData\\Local\\Temp/ipykernel_9080/1643381837.py\u001b[0m in \u001b[0;36m<module>\u001b[1;34m\u001b[0m\n\u001b[0;32m      1\u001b[0m \u001b[0ma\u001b[0m \u001b[1;33m=\u001b[0m \u001b[1;36m4\u001b[0m\u001b[1;33m;\u001b[0m \u001b[0mb\u001b[0m \u001b[1;33m=\u001b[0m \u001b[1;36m0\u001b[0m\u001b[1;33m\u001b[0m\u001b[1;33m\u001b[0m\u001b[0m\n\u001b[1;32m----> 2\u001b[1;33m \u001b[0mprint\u001b[0m\u001b[1;33m(\u001b[0m\u001b[0ma\u001b[0m\u001b[1;33m/\u001b[0m\u001b[0mb\u001b[0m\u001b[1;33m)\u001b[0m\u001b[1;33m\u001b[0m\u001b[1;33m\u001b[0m\u001b[0m\n\u001b[0m",
      "\u001b[1;31mZeroDivisionError\u001b[0m: division by zero"
     ]
    }
   ],
   "source": [
    "a = 4; b = 0\n",
    "print(a/b)"
   ]
  },
  {
   "cell_type": "markdown",
   "id": "1a79f60d",
   "metadata": {},
   "source": [
    "Una primera aproximación al control de exepciones podria ser la siguiente:"
   ]
  },
  {
   "cell_type": "code",
   "execution_count": 16,
   "id": "87bca972",
   "metadata": {},
   "outputs": [
    {
     "name": "stdout",
     "output_type": "stream",
     "text": [
      "No se puede dividir!\n"
     ]
    }
   ],
   "source": [
    "a = 5\n",
    "b = 0\n",
    "# A través de esta comprobación prevenimos que se divida entre cero.\n",
    "if b!=0:\n",
    "    print(a/b)\n",
    "else:\n",
    "    print(\"No se puede dividir!\")"
   ]
  },
  {
   "cell_type": "markdown",
   "id": "76f8651a",
   "metadata": {},
   "source": [
    "Sin embargo, en Python puedes usar los bloques **`try`** y **`except`** para manejar estos errores como excepciones.\n",
    "\n",
    "```\n",
    "try:\n",
    "\t# Codigo a ejecutar\n",
    "\t# Pero podria haber errores en este bloque\n",
    "    \n",
    "except <tipo de error>:\n",
    "\t# Haz esto para manejar la excepcion\n",
    "\t# El bloque except se ejecutara si el bloque try lanza un error\n",
    "    \n",
    "else:\n",
    "\t# Esto se ejecutara si el bloque try se ejecuta sin errores\n",
    "   \n",
    "finally:\n",
    "\t# Este bloque se ejecutara siempre\n",
    "```\n",
    "\n",
    "\n",
    "\n",
    "* El bloque **`try`** es el bloque con las sentencias que quieres ejecutar. Sin embargo, podrían llegar a haber errores de ejecución  y el bloque se dejará de ejecutarse.\n",
    "* El bloque **`except`** se ejecutará cuando el bloque **`try`** falle debido a un error. Este bloque contiene sentencias que generalmente nos dan un contexto de lo que salió mal en el bloque **`try`**. Siempre se debe mencionar el tipo de error que se espera, como una excepción dentro del bloque except en **`<tipo de error>`** ya que de esta manera se identifica el tipo de error que podria ocurrir.\n",
    "* El bloque **`else`** se ejecutará solo si el bloque **`try`**  se ejecuta sin errores. \n",
    "* El bloque **`finally`**  siempre es ejecutado sin importar que pase en los otros bloques, esto puede ser útil cuando quieras liberar recursos después de la ejecución de un bloque de código.\n",
    "\n",
    "> **Nota:** Los bloques **`else`** y **`finally`** son opcionales. \n",
    "\n",
    "El ejemplo anterior, utilizando estos bloques quedaria de la siguiente manera:"
   ]
  },
  {
   "cell_type": "code",
   "execution_count": 17,
   "id": "710baa42",
   "metadata": {},
   "outputs": [
    {
     "name": "stdout",
     "output_type": "stream",
     "text": [
      "No se ha podido realizar la división\n"
     ]
    }
   ],
   "source": [
    "a = 5; b = 0\n",
    "try:\n",
    "    c = a/b\n",
    "except ZeroDivisionError:\n",
    "    print(\"No se ha podido realizar la división\")"
   ]
  },
  {
   "cell_type": "markdown",
   "id": "b57fbf03",
   "metadata": {},
   "source": [
    "## 6. Lectura de archivos"
   ]
  },
  {
   "cell_type": "markdown",
   "id": "7c090b3b",
   "metadata": {},
   "source": [
    "\n",
    "Muchas veces necesitamos que nuestros cálculos sean escritos en un archivo externo y no solamente escritos en la consola. Para ello usamos Python file.\n",
    "\n",
    "Argumento  |Descripción \n",
    "-----|-----\n",
    "r| Texto, leer solamente\n",
    "w| Texto, escribir ( si existe un archivo con el mismo nombre este lo sobreescribe)\n",
    "a|Texto, adjuntar el texto al archivo ya existente \n",
    "r+|Texto, leer y escribir\n",
    "rb|Binario, leer solamente\n",
    "wb|Binario, escribir ( si existe un archivo con el mismo nombre este lo sobreescribe)\n",
    "ab|Binario, adjuntar el texto al archivo ya existente\n",
    "rb+|Binario leer y escribir"
   ]
  },
  {
   "cell_type": "markdown",
   "id": "9ac8af58",
   "metadata": {},
   "source": [
    "### Referencias:\n",
    "    \n",
    "https://www.freecodecamp.org/espanol/news/sentencias-try-y-except-de-python-como-menejar-excepciones-en-python/\n",
    "https://www.w3schools.com/python/python_try_except.asp "
   ]
  }
 ],
 "metadata": {
  "kernelspec": {
   "display_name": "Python 3 (ipykernel)",
   "language": "python",
   "name": "python3"
  },
  "language_info": {
   "codemirror_mode": {
    "name": "ipython",
    "version": 3
   },
   "file_extension": ".py",
   "mimetype": "text/x-python",
   "name": "python",
   "nbconvert_exporter": "python",
   "pygments_lexer": "ipython3",
   "version": "3.9.7"
  }
 },
 "nbformat": 4,
 "nbformat_minor": 5
}
