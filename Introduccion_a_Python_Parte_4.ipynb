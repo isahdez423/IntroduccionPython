{
  "nbformat": 4,
  "nbformat_minor": 0,
  "metadata": {
    "colab": {
      "name": "Introduccion a Python - Parte 4.ipynb",
      "provenance": [],
      "collapsed_sections": [],
      "authorship_tag": "ABX9TyORF+7wcsIkwRmYUrXbjHCr",
      "include_colab_link": true
    },
    "kernelspec": {
      "name": "python3",
      "display_name": "Python 3"
    },
    "language_info": {
      "name": "python"
    }
  },
  "cells": [
    {
      "cell_type": "markdown",
      "metadata": {
        "id": "view-in-github",
        "colab_type": "text"
      },
      "source": [
        "<a href=\"https://colab.research.google.com/github/isahdez423/IntroduccionPython/blob/main/Introduccion_a_Python_Parte_4.ipynb\" target=\"_parent\"><img src=\"https://colab.research.google.com/assets/colab-badge.svg\" alt=\"Open In Colab\"/></a>"
      ]
    },
    {
      "cell_type": "markdown",
      "source": [
        "# **Taller de verano: Introducción a Python - Parte 4**"
      ],
      "metadata": {
        "id": "ic1C5WY7vpLj"
      }
    },
    {
      "cell_type": "markdown",
      "source": [
        "# **Libreria Numpy**\n",
        "---\n",
        "<img src = \"https://numpy.org/user-survey-2020-details/_static/numpylogo.svg\" alt = \"Numpy Logo\" width = \"50%\">  </img>\n"
      ],
      "metadata": {
        "id": "rdZtOhpZOYQt"
      }
    },
    {
      "cell_type": "markdown",
      "source": [
        "Numpy es una librería de Python especializada en el cálculo numérico y el análisis de datos, especialmente cuando se tiene un gran volumen de datos.  Incluye funciones para operaciones de muchos tipos, matemáticas, de lógica, de ordenación, estadísticas, de entrada y salida para leer y escribir ficheros, etcétera. En el siguiente link puede encontrar mas información sobre esta librería: https://numpy.org/doc/stable/index.html \n",
        "\n",
        "Para poder utilizar **`Numpy`** primero hay que instalarlo ya que es modulo externo. Por ejemplo, si se esta trabajando `Python` en `conda`, se debe abrir la terminal (`Anaconda Prompt`) y escribir `conda install numpy`."
      ],
      "metadata": {
        "id": "qQpZATYoJnpR"
      }
    },
    {
      "cell_type": "markdown",
      "source": [
        "Una vez instalado, la forma más común de importar esta librería en nuestro archivo de trabajo es utilizando el alias `np`"
      ],
      "metadata": {
        "id": "LfSYCYZq-ttP"
      }
    },
    {
      "cell_type": "code",
      "source": [
        "import numpy as np"
      ],
      "metadata": {
        "id": "aAGz617i-whr"
      },
      "execution_count": null,
      "outputs": []
    },
    {
      "cell_type": "markdown",
      "source": [
        "La ventaja de **`Numpy`** frente a las listas predefinidas en Python es que el procesamiento de los arrays se realiza mucho más rápido que las listas, lo cual la hace ideal para el procesamiento de vectores y matrices de grandes dimensiones.\n",
        "\n",
        "**Ejemplo**"
      ],
      "metadata": {
        "id": "2qh_yUSsq7R2"
      }
    },
    {
      "cell_type": "code",
      "source": [
        ""
      ],
      "metadata": {
        "id": "pHkdLRwk9jzk"
      },
      "execution_count": null,
      "outputs": []
    },
    {
      "cell_type": "code",
      "source": [
        ""
      ],
      "metadata": {
        "id": "0C4TzgTs-pcp"
      },
      "execution_count": null,
      "outputs": []
    },
    {
      "cell_type": "markdown",
      "source": [
        "**`Numpy`** esta basado en el objeto **`ndarray`** el cual es multidimensional, lo cual significa que permite representar tanto valores esacalares como vectores, matrices y matrices multidimensionales.\n",
        "\n",
        "<img src = \"https://predictivehacks.com/wp-content/uploads/2020/08/numpy_arrays-768x429.png\" alt = \"Numpy Logo\" width = \"60%\">  </img>\n",
        "\n",
        "\n",
        "Referencia: https://predictivehacks.com/tips-about-numpy-arrays/\n",
        "\n"
      ],
      "metadata": {
        "id": "ZhEOiaizZaxv"
      }
    },
    {
      "cell_type": "markdown",
      "source": [
        "Se tienen diferentes maneras de crear un **`array`** por ejemplo, utilizandos funciones que ya se encuentran implementadas en **`Numpy`**"
      ],
      "metadata": {
        "id": "abiIAI7Tbv5E"
      }
    },
    {
      "cell_type": "code",
      "source": [
        "# Crear un vector de ceros"
      ],
      "metadata": {
        "id": "7xeZINSLbvPB"
      },
      "execution_count": null,
      "outputs": []
    },
    {
      "cell_type": "code",
      "source": [
        "# Crear una matriz de ceros"
      ],
      "metadata": {
        "id": "cXNo2JUYb80J"
      },
      "execution_count": null,
      "outputs": []
    },
    {
      "cell_type": "code",
      "source": [
        "# Crear un vector de unos"
      ],
      "metadata": {
        "id": "g2ZcFZslcb-Z"
      },
      "execution_count": null,
      "outputs": []
    },
    {
      "cell_type": "code",
      "source": [
        "# Crear una matriz de unos"
      ],
      "metadata": {
        "id": "BAALep7BceNl"
      },
      "execution_count": null,
      "outputs": []
    },
    {
      "cell_type": "code",
      "source": [
        "# Crear vector y matriz vacia"
      ],
      "metadata": {
        "id": "h4-RzGo_fEY0"
      },
      "execution_count": null,
      "outputs": []
    },
    {
      "cell_type": "code",
      "source": [
        "# Vector con valores aleatorios\n",
        "\n",
        "''' Esta funcion devuelve numeros enteros aleatorios desde [a,b) \n",
        "np.random.randint(a,b, size=None, dtype=int) en el parametro size se especifica \n",
        "la dimension del vector o matriz a crear'''"
      ],
      "metadata": {
        "id": "MWNyledMu0y1"
      },
      "execution_count": null,
      "outputs": []
    },
    {
      "cell_type": "code",
      "source": [
        "# Copiar un array"
      ],
      "metadata": {
        "id": "BK8p3Q6OBaxB"
      },
      "execution_count": null,
      "outputs": []
    },
    {
      "cell_type": "markdown",
      "source": [
        "**Crear matrices**"
      ],
      "metadata": {
        "id": "LtYH6hzCnauj"
      }
    },
    {
      "cell_type": "code",
      "source": [
        "# Matriz diagonal\n",
        "m = np.array([[3,4,1],\n",
        "              [6,8,2],\n",
        "              [1,3,6]])"
      ],
      "metadata": {
        "id": "fUNkcjpAl4Fj"
      },
      "execution_count": null,
      "outputs": []
    },
    {
      "cell_type": "code",
      "source": [
        "# Diagonal -1\n",
        "\n",
        "# Diagonal 1"
      ],
      "metadata": {
        "id": "Jeqcy4yA2fVI"
      },
      "execution_count": null,
      "outputs": []
    },
    {
      "cell_type": "code",
      "source": [
        "# Matriz diagonal (diag)"
      ],
      "metadata": {
        "id": "KaVvvs26fb8T"
      },
      "execution_count": null,
      "outputs": []
    },
    {
      "cell_type": "code",
      "source": [
        "# Matriz identidad"
      ],
      "metadata": {
        "id": "8R2NBKJcodVx"
      },
      "execution_count": null,
      "outputs": []
    },
    {
      "cell_type": "code",
      "source": [
        "# Matriz de un mismo valor"
      ],
      "metadata": {
        "id": "DV_FEbqBof-y"
      },
      "execution_count": null,
      "outputs": []
    },
    {
      "cell_type": "code",
      "source": [
        "# Matriz de numeros aleatorios \n",
        "\n",
        "\n",
        "''' Esta funcion devuelve numeros enteros aleatorios desde [a,b) \n",
        "np.random.randint(a,b, size=None, dtype=int) en el parametro size se especifica \n",
        "la dimension del vector o matriz a crear'''\n",
        "\n"
      ],
      "metadata": {
        "colab": {
          "base_uri": "https://localhost:8080/",
          "height": 36
        },
        "id": "PLiAiTGZrUBs",
        "outputId": "3f5d2d3b-1d72-4dea-e10c-6267afd55e52"
      },
      "execution_count": null,
      "outputs": [
        {
          "output_type": "execute_result",
          "data": {
            "text/plain": [
              "' Esta funcion devuelve numeros enteros aleatorios desde [a,b) \\nnp.random.randint(a,b, size=None, dtype=int) en el parametro size se especifica \\nla dimension del vector o matriz a crear'"
            ],
            "application/vnd.google.colaboratory.intrinsic+json": {
              "type": "string"
            }
          },
          "metadata": {},
          "execution_count": 44
        }
      ]
    },
    {
      "cell_type": "markdown",
      "source": [
        "Para obtener información de las características del array creado, existen diferentes atributos y funciones:"
      ],
      "metadata": {
        "id": "jp_CM_2TfDg_"
      }
    },
    {
      "cell_type": "code",
      "source": [
        "array = np.array([[2,3,4],[2,6,4],[4,2,9]])\n",
        "\n",
        "# Dimensión\n",
        "\n",
        "# Dimensiones del array, lo devuelve como tupla\n",
        "\n",
        "# Numero total de elementos del array\n",
        "\n",
        "# Tipo de datos de los elementos del array a.\n"
      ],
      "metadata": {
        "id": "nMjEulDMhe8B"
      },
      "execution_count": null,
      "outputs": []
    },
    {
      "cell_type": "markdown",
      "source": [
        "### **Función arange y linspace**\n",
        "\n",
        "* **`np.arange(inicio, fin, salto):`**\n",
        " Crea y devuelve un array de una dimensión cuyos elementos son la secuencia desde **`inicio`** hasta **`fin`** tomando valores cada **`salto`**."
      ],
      "metadata": {
        "id": "ZdDlg787iJrp"
      }
    },
    {
      "cell_type": "code",
      "source": [
        "# Función arange"
      ],
      "metadata": {
        "id": "KQ2zq4z3xUyH"
      },
      "execution_count": null,
      "outputs": []
    },
    {
      "cell_type": "markdown",
      "source": [
        "\n",
        "* **`np.linspace(inicio, fin, n):`** Crea y devuelve un array de una dimensión cuyos elementos son la secuencia de **`n`** valores equidistantes desde **`inicio`** hasta **`fin`**."
      ],
      "metadata": {
        "id": "f_kvBta9z4JG"
      }
    },
    {
      "cell_type": "code",
      "source": [
        "# Función linspace"
      ],
      "metadata": {
        "id": "F288ZhX7xYwX"
      },
      "execution_count": null,
      "outputs": []
    },
    {
      "cell_type": "markdown",
      "source": [
        "### **Acceder a los elementos de una matriz**\n",
        "\n",
        "*   **`l[a,b]`**: Retornan los elementos de la fila **`a`**  y la columna **`b`**.\n",
        "* **`:`** Selecciona todo."
      ],
      "metadata": {
        "id": "A9JV0Rn3zh13"
      }
    },
    {
      "cell_type": "code",
      "source": [
        "m = np.array([[2,3,5], \n",
        "              [6,3,8],\n",
        "              [9,5,1]])\n",
        "\n",
        "# Selecciona todos los elementos\n",
        "\n",
        "\n",
        "# Selecciona la primera fila\n",
        "\n",
        "\n",
        "# Selecciona la primera columna\n",
        "\n",
        "\n",
        "# Selecciona la ultima fila\n",
        "\n",
        "\n",
        "# Selecciona la ultima columa\n",
        "\n",
        "\n",
        "# Valor en la posicion fila 1, columna 1\n"
      ],
      "metadata": {
        "id": "A8VQZ4Wo1gPp"
      },
      "execution_count": null,
      "outputs": []
    },
    {
      "cell_type": "code",
      "source": [
        "array = np.array([[3,56,21,2],\n",
        "                 [6,9,6,1],\n",
        "                 [11,2,4,36],\n",
        "                 [7,22,12,5]])\n",
        "\n",
        "print(array,\"\\n\")\n",
        "\n",
        "# Selecciona todas las filas y de la columna 1 a la 2\n",
        "\n",
        "\n",
        "# Selecciona de la fila 1 a la 2 y de la columna 1 a la 2\n"
      ],
      "metadata": {
        "colab": {
          "base_uri": "https://localhost:8080/"
        },
        "id": "XYN9LIm26SVV",
        "outputId": "7d838f7d-f103-4775-edb1-3eda84aa4c8a"
      },
      "execution_count": null,
      "outputs": [
        {
          "output_type": "stream",
          "name": "stdout",
          "text": [
            "[[ 3 56 21  2]\n",
            " [ 6  9  6  1]\n",
            " [11  2  4 36]\n",
            " [ 7 22 12  5]] \n",
            "\n"
          ]
        }
      ]
    },
    {
      "cell_type": "markdown",
      "source": [
        "Acceder a los elementos de un vector de una dimensión funciona igual que manejar listas."
      ],
      "metadata": {
        "id": "O2rAQC439Ukg"
      }
    },
    {
      "cell_type": "code",
      "source": [
        "array = np.array([3,56,21,2,6,32,1])\n",
        "print(array)\n",
        "\n",
        "# Selecciona todo el vector\n",
        "\n",
        "\n",
        "# Seleccionar elemento en especifico\n",
        "\n",
        "\n",
        "# Selecciona elementos de la posicion 2 hasta la posicion 4\n"
      ],
      "metadata": {
        "colab": {
          "base_uri": "https://localhost:8080/"
        },
        "id": "QL8-hJkp8kXB",
        "outputId": "69bf7ef2-eeb6-4df4-c188-2a9c7cd5d9d4"
      },
      "execution_count": null,
      "outputs": [
        {
          "output_type": "stream",
          "name": "stdout",
          "text": [
            "[ 3 56 21  2  6 32  1]\n",
            "[21  2  6]\n"
          ]
        }
      ]
    },
    {
      "cell_type": "markdown",
      "source": [
        "### **Álgebra matricial**"
      ],
      "metadata": {
        "id": "P7QZ7oXJ_S4A"
      }
    },
    {
      "cell_type": "code",
      "source": [
        "a = np.array([1, 2, 3])\n",
        "b = np.array([1, 0, 1])\n",
        "\n",
        "a1 = np.array([[1, 2, 3], \n",
        "              [4, 5, 6]])\n",
        "b1 = np.array([[3, 5, 1], \n",
        "              [7, 0, 3]])"
      ],
      "metadata": {
        "id": "S3qoijf7CHuK"
      },
      "execution_count": null,
      "outputs": []
    },
    {
      "cell_type": "code",
      "source": [
        "# Sumar\n",
        "print(a + b)\n",
        "print(\"\")\n",
        "print(a1 + b1)"
      ],
      "metadata": {
        "colab": {
          "base_uri": "https://localhost:8080/"
        },
        "id": "CWLXcCeLN37e",
        "outputId": "ab81e161-ea21-46ad-f7ca-ad429bd47c89"
      },
      "execution_count": null,
      "outputs": [
        {
          "output_type": "stream",
          "name": "stdout",
          "text": [
            "[2 2 4]\n",
            "\n",
            "[[ 4  7  4]\n",
            " [11  5  9]]\n"
          ]
        }
      ]
    },
    {
      "cell_type": "code",
      "source": [
        "# Restar\n",
        "print(a - b)\n",
        "print(\"\")\n",
        "print(a1 + b1)"
      ],
      "metadata": {
        "colab": {
          "base_uri": "https://localhost:8080/"
        },
        "id": "o9ed4qr_N6cB",
        "outputId": "919d73c5-32ea-4d27-814a-1325eaffdce5"
      },
      "execution_count": null,
      "outputs": [
        {
          "output_type": "stream",
          "name": "stdout",
          "text": [
            "[0 2 2]\n",
            "\n",
            "[[ 4  7  4]\n",
            " [11  5  9]]\n"
          ]
        }
      ]
    },
    {
      "cell_type": "code",
      "source": [
        "# Funciona igual para vectores de una dimension\n",
        "\n",
        "print( 3*a1 )\n",
        "print(\"\")\n",
        "print( a1/3 )\n",
        "print(\"\")\n",
        "print( a1/b1)"
      ],
      "metadata": {
        "colab": {
          "base_uri": "https://localhost:8080/"
        },
        "id": "2yapt1MwOfTJ",
        "outputId": "16b07879-2a07-49d8-d34f-376aeabc2b12"
      },
      "execution_count": null,
      "outputs": [
        {
          "output_type": "stream",
          "name": "stdout",
          "text": [
            "[[ 3  6  9]\n",
            " [12 15 18]]\n",
            "\n",
            "[[0.33333333 0.66666667 1.        ]\n",
            " [1.33333333 1.66666667 2.        ]]\n",
            "\n",
            "[[0.33333333 0.4        3.        ]\n",
            " [0.57142857        inf 2.        ]]\n"
          ]
        },
        {
          "output_type": "stream",
          "name": "stderr",
          "text": [
            "/usr/local/lib/python3.7/dist-packages/ipykernel_launcher.py:7: RuntimeWarning: divide by zero encountered in true_divide\n",
            "  import sys\n"
          ]
        }
      ]
    },
    {
      "cell_type": "code",
      "source": [
        "# Producto escalar de dos vectores\n"
      ],
      "metadata": {
        "id": "B_vOt-oO_QIO"
      },
      "execution_count": null,
      "outputs": []
    },
    {
      "cell_type": "code",
      "source": [
        "# Norma de un vector\n"
      ],
      "metadata": {
        "id": "lmHVxB1NCVKM"
      },
      "execution_count": null,
      "outputs": []
    },
    {
      "cell_type": "code",
      "source": [
        "# Producto de dos matrices\n",
        "a = np.array([[1, 2, 3], \n",
        "              [4, 5, 6]])\n",
        "\n",
        "b = np.array([[1, 1], \n",
        "              [2, 2], \n",
        "              [3, 3]])\n"
      ],
      "metadata": {
        "id": "cXuvFAQtCoEY"
      },
      "execution_count": null,
      "outputs": []
    },
    {
      "cell_type": "code",
      "source": [
        "# Matriz transpuesta\n",
        "\n"
      ],
      "metadata": {
        "id": "jbtezwWvDTtu"
      },
      "execution_count": null,
      "outputs": []
    },
    {
      "cell_type": "code",
      "source": [
        "# Traza de una matriz\n",
        "a = np.array([[1, 2, 3], \n",
        "              [4, 5, 6], \n",
        "              [7, 8, 9]])\n"
      ],
      "metadata": {
        "id": "OXeK0dKIDnF7"
      },
      "execution_count": null,
      "outputs": []
    },
    {
      "cell_type": "code",
      "source": [
        "# Determinante de una matriz\n",
        "a = np.array([[1, 2, 3], \n",
        "              [4, 5, 6], \n",
        "              [7, 8, 9]])\n"
      ],
      "metadata": {
        "id": "TwRr7WYeDvS0"
      },
      "execution_count": null,
      "outputs": []
    },
    {
      "cell_type": "code",
      "source": [
        "# Matriz inversa\n",
        "matriz = np.array([[1, 2], \n",
        "                   [3, 4]])"
      ],
      "metadata": {
        "id": "KZk4eOD2FF7a"
      },
      "execution_count": null,
      "outputs": []
    },
    {
      "cell_type": "code",
      "source": [
        "# Suma de la matriz por columna\n",
        "\n",
        "# Suma de la matriz por fila"
      ],
      "metadata": {
        "colab": {
          "base_uri": "https://localhost:8080/"
        },
        "id": "AAX0V_toPdh2",
        "outputId": "9ccf54fb-3fa8-47e9-a8aa-8fc08d20b9a3"
      },
      "execution_count": null,
      "outputs": [
        {
          "output_type": "stream",
          "name": "stdout",
          "text": [
            "[4 6] \n",
            "\n",
            "[3 7] \n",
            "\n"
          ]
        }
      ]
    },
    {
      "cell_type": "code",
      "source": [
        "# Hallar el promedio\n",
        "\n",
        "array = np.array([[1, -1], [2, -2], [3, -3]])\n",
        " \n",
        "\n",
        "meanByCols = np.mean(array, axis=0)\n",
        "meanByRows = np.mean(array, axis=1) \n",
        " \n",
        "\n",
        "print('Media por columnas: ')\n",
        "print(meanByCols)\n",
        "print('Media por filas:')\n",
        "print(meanByRows)"
      ],
      "metadata": {
        "colab": {
          "base_uri": "https://localhost:8080/"
        },
        "id": "bkrhmPPBR0VT",
        "outputId": "a8a9617c-97b1-4c8b-8ee5-92cba07c85e3"
      },
      "execution_count": null,
      "outputs": [
        {
          "output_type": "stream",
          "name": "stdout",
          "text": [
            "Media por columnas: \n",
            "[ 2. -2.]\n",
            "Media por filas:\n",
            "[0. 0. 0.]\n"
          ]
        }
      ]
    },
    {
      "cell_type": "markdown",
      "source": [
        "**Autovalores y autovectores de una matriz**"
      ],
      "metadata": {
        "id": "c7COKq9CFcmc"
      }
    },
    {
      "cell_type": "code",
      "source": [
        "a = np.array([[1, 1, 0], [1, 2, 1], [0, 1, 1]])\n",
        "\n",
        "autovalores, autovectores = np.linalg.eig(a)\n",
        "print(autovalores,\"\\n\")\n",
        "print(autovectores,\"\\n\")"
      ],
      "metadata": {
        "colab": {
          "base_uri": "https://localhost:8080/"
        },
        "id": "i7X2lr5tFcEo",
        "outputId": "c2371271-874a-46aa-f0f3-140393b4fcf4"
      },
      "execution_count": null,
      "outputs": [
        {
          "output_type": "stream",
          "name": "stdout",
          "text": [
            "[ 3.00000000e+00  1.00000000e+00 -3.36770206e-17] \n",
            "\n",
            "[[-4.08248290e-01  7.07106781e-01  5.77350269e-01]\n",
            " [-8.16496581e-01  2.61239546e-16 -5.77350269e-01]\n",
            " [-4.08248290e-01 -7.07106781e-01  5.77350269e-01]] \n",
            "\n"
          ]
        }
      ]
    },
    {
      "cell_type": "markdown",
      "source": [
        "> **Nota:** La columna **`autovectores[:,i]`** es el vector propio correspondiente al valor propio **`autovalores[i]`**. Los autovectores estan por columna."
      ],
      "metadata": {
        "id": "ZOtmhennIIQ8"
      }
    },
    {
      "cell_type": "code",
      "source": [
        "print(\"Autovector asociado al tercer autovalor\")\n",
        "print(autovalores[2])\n",
        "print(autovectores[:,2])"
      ],
      "metadata": {
        "id": "0qgDrtgCHpW8"
      },
      "execution_count": null,
      "outputs": []
    },
    {
      "cell_type": "markdown",
      "source": [
        "**Resolver sistema de ecuaciones**\n",
        "\n",
        "Sistema de dos ecuaciones y dos incognitas\n",
        "```\n",
        "3x + 2y = 1\n",
        "x + 6y = 3\n",
        "\n",
        "```"
      ],
      "metadata": {
        "id": "uR0uPM_EI2MP"
      }
    },
    {
      "cell_type": "code",
      "source": [
        "a = np.array([[3, 2], [1, 6]])\n",
        "b = np.array([1, 3])\n",
        "print(np.linalg.solve(a, b))"
      ],
      "metadata": {
        "colab": {
          "base_uri": "https://localhost:8080/"
        },
        "id": "-QxLQFwmI-KL",
        "outputId": "9fa2578e-a265-4a90-bf51-44d9ca8e6cc7"
      },
      "execution_count": null,
      "outputs": [
        {
          "output_type": "stream",
          "name": "stdout",
          "text": [
            "[0.  0.5]\n"
          ]
        }
      ]
    },
    {
      "cell_type": "markdown",
      "source": [
        "### **Guardar y leer array en archivo**\n",
        "\n",
        "**Guardar**\n",
        "```\n",
        "np.save(\"nombre_archivo\", array_para_guardar)\n",
        "\n",
        "```\n",
        "**Leer**\n",
        "\n",
        "Por defecto un **`array`** se guarda con la extensión **`.npy`**\n",
        "```\n",
        "np.save(\"nombre_archivo.npy\")\n",
        "\n",
        "```\n",
        "Esta parte la podemos trabajar en Spyder para que el manejo de archivos sea mas facil"
      ],
      "metadata": {
        "id": "YLz9zvBMAOpX"
      }
    },
    {
      "cell_type": "markdown",
      "source": [
        "## **Leer base de datos con numpy**\n",
        "\n",
        "Vamos a trabajarlo desde Spyder sin embargo, aquí se encuentra la sintaxis de la función que nos permite cargar base de datos:\n",
        "\n",
        "```\n",
        "loadtxt(fname, dtype=float, comments='#', delimiter=None,\n",
        "            converters=None, skiprows=0, usecols=None, unpack=False,\n",
        "            ndmin=0, encoding='bytes', max_rows=None, *, like=None):\n",
        "```\n",
        "\n",
        "Tambien, se puede utilizar la libreria Pandas\n",
        "\n",
        "\n",
        "```\n",
        "pd.read_csv('data.csv', delimiter=' ')\n",
        "```\n",
        "\n",
        " "
      ],
      "metadata": {
        "id": "uWKEFgNkWKmW"
      }
    },
    {
      "cell_type": "markdown",
      "source": [
        "# **Referencias**\n",
        "https://numpy.org/doc/stable/reference/arrays.html\n",
        "\n",
        "https://aprendeconalf.es/docencia/python/manual/numpy/"
      ],
      "metadata": {
        "id": "A3l2IZ7zIr6U"
      }
    }
  ]
}