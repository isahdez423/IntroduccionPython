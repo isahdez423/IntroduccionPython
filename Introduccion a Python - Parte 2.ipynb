{
 "cells": [
  {
   "cell_type": "markdown",
   "id": "02c6a383",
   "metadata": {},
   "source": [
    "# Taller de verano: Introducción a Python - Parte 2"
   ]
  },
  {
   "cell_type": "markdown",
   "id": "2da9c016",
   "metadata": {},
   "source": [
    "# Funciones y estructuras de control en Python\n",
    "\n",
    "<img src = \"https://www.python.org/static/community_logos/python-logo-inkscape.svg\" alt = \"Python Logo\" width = \"70%\">  </img>\n"
   ]
  },
  {
   "cell_type": "markdown",
   "id": "b4640b5f",
   "metadata": {},
   "source": [
    "## 1. Condicionales if, elif y else\n",
    "---\n",
    "\n",
    "Las estructuras de control de flujo condicionales, permiten ejecutar bloques de código específicos según el valor de algunos datos. Se definen mediante el uso de tres palabras claves reservadas, del lenguaje: `if` (si), `elif` (sino, si) y `else` (sino). \n",
    "\n",
    "```\n",
    "if test expression:\n",
    "    Body of if\n",
    "elif test expression:\n",
    "    Body of elif\n",
    "else: \n",
    "    Body of else\n",
    "```\n",
    "\n",
    "Si la condición que sigue a la palabra clave `if`  se evalúa como `verdadera` , el bloque de código se ejecutará. Opcionalmente, puedes agregar una respuesta `else` la cual se ejecutará si la condición es `false`. Sin embargo, si se desea evaluar múltiples condiciones se usara la sentencia `elif`.\n"
   ]
  },
  {
   "cell_type": "markdown",
   "id": "eff5902c",
   "metadata": {},
   "source": [
    "### Ejemplo:\n",
    "Tomemos un ejemplo de cómo encontrar un número que sea par y también mayor que 10"
   ]
  },
  {
   "cell_type": "code",
   "execution_count": 8,
   "id": "8615e5b5",
   "metadata": {},
   "outputs": [
    {
     "name": "stdout",
     "output_type": "stream",
     "text": [
      "Numero positivo\n"
     ]
    }
   ],
   "source": [
    "'''En este programa, vamos a mirar si dado un numero \n",
    "es positivo, negativo o cero, con su respectivo mensaje '''\n",
    "\n",
    "num = 3.4\n",
    "\n",
    "if num > 0:\n",
    "    print(\"Numero positivo\")\n",
    "elif num == 0:\n",
    "    print(\"Cero\")\n",
    "else:\n",
    "    print(\"Numero negativo\")"
   ]
  },
  {
   "cell_type": "markdown",
   "id": "1f176d55",
   "metadata": {},
   "source": [
    "### Ejercicio 1\n",
    "\n",
    "Escribir un programa que almacene la cadena de caracteres `contraseña` en una variable, pregunte al usuario por la contraseña e imprima por pantalla si la contraseña introducida por el usuario coincide con la guardada en la variable sin tener en cuenta mayúsculas y minúsculas.\n",
    "\n",
    "* La clave debe estar en minuscula"
   ]
  },
  {
   "cell_type": "markdown",
   "id": "01248577",
   "metadata": {},
   "source": [
    "## 2. Bucle for\n",
    "---\n",
    "La estructura repetitiva **`For`** es aquella en la que el número de iteraciones se conoce por anticipado, y por ello no se precisa poner ninguna condición de salida para detener el bucle. En su lugar un contador cuenta el número de iteraciones fijas y se termina cuando llega al valor final previamente definido.\n",
    "\n",
    "Sintaxis:\n",
    "\n",
    "```\n",
    "for <elem> in <iterable>:\n",
    "    <Código>\n",
    "```\n",
    "\n",
    "Aquí, `elem` es la variable que toma el valor del elemento dentro del iterador en cada paso del bucle. Este finaliza su ejecución cuando se recorren todos los elementos. Es frecuente usar el bucle for para iterar sobre los elementos de listas, tuplas o diccionarios."
   ]
  },
  {
   "cell_type": "markdown",
   "id": "d87aafce",
   "metadata": {},
   "source": [
    "### Función range\n",
    "\n",
    "Para recorrer un conjunto de código un número específico de veces, podemos usar la función **`range(n)`**, la cual devuelve una secuencia de números, comenzando desde 0 de forma predeterminada, se incrementa en 1 (de forma predeterminada) y termina cuando llega a **`n - 1`**."
   ]
  },
  {
   "cell_type": "code",
   "execution_count": 9,
   "id": "a4f7411c",
   "metadata": {},
   "outputs": [
    {
     "name": "stdout",
     "output_type": "stream",
     "text": [
      "0\n",
      "1\n",
      "2\n",
      "3\n",
      "4\n",
      "5\n"
     ]
    }
   ],
   "source": [
    "for x in range(6):\n",
    "  print(x)"
   ]
  },
  {
   "cell_type": "markdown",
   "id": "02ba2760",
   "metadata": {},
   "source": [
    "La función **`range(n)`** por defecto toma 0 como valor inicial, sin embargo, es posible especificar el valor inicial agregando un parámetro: `range(2, 6)` , lo que significa que toma valores del 2 al 6 (pero sin incluir el 6)"
   ]
  },
  {
   "cell_type": "code",
   "execution_count": 10,
   "id": "6008a880",
   "metadata": {},
   "outputs": [
    {
     "name": "stdout",
     "output_type": "stream",
     "text": [
      "2\n",
      "3\n",
      "4\n",
      "5\n"
     ]
    }
   ],
   "source": [
    "for x in range(2, 6):\n",
    "  print(x)"
   ]
  },
  {
   "cell_type": "markdown",
   "id": "6f092bdd",
   "metadata": {},
   "source": [
    "La función **`range(n)`** por defecto incrementa la secuencia en 1, sin embargo, agregando un tercer parámetro se puede especificar el valor del incremento: `range(2, 30, 3 )`"
   ]
  },
  {
   "cell_type": "code",
   "execution_count": 13,
   "id": "568f3c86",
   "metadata": {},
   "outputs": [
    {
     "name": "stdout",
     "output_type": "stream",
     "text": [
      "1\n",
      "4\n",
      "7\n",
      "10\n",
      "13\n"
     ]
    }
   ],
   "source": [
    "for x in range(1, 15, 3):\n",
    "  print(x)"
   ]
  },
  {
   "cell_type": "markdown",
   "id": "12be0cbc",
   "metadata": {},
   "source": [
    "Con `for` también puedo recorrer una cadena de caracteres:"
   ]
  },
  {
   "cell_type": "code",
   "execution_count": 5,
   "id": "60f38426",
   "metadata": {},
   "outputs": [
    {
     "name": "stdout",
     "output_type": "stream",
     "text": [
      "I\n",
      "s\n",
      "a\n",
      "b\n",
      "e\n",
      "l\n",
      "l\n",
      "a\n"
     ]
    }
   ],
   "source": [
    "texto=\"Isabella\"\n",
    "for i in texto:\n",
    "    print(i)\n",
    "    #print(i,end=\"\")"
   ]
  },
  {
   "cell_type": "markdown",
   "id": "4c86ef11",
   "metadata": {},
   "source": [
    "## 3. Bucle While\n",
    "---\n",
    "\n",
    "El ciclo while en Python se usa para iterar sobre un bloque de código siempre que la expresión de prueba (condición) sea verdadera. Generalmente usamos este ciclo cuando no sabemos la cantidad de veces que necesitamos iterar una sentencia.\n",
    "\n",
    "Sintaxis:\n",
    "\n",
    "```\n",
    "while test_expression:\n",
    "    Body of while\n",
    "```\n",
    "\n",
    "En el bucle while, primero se comprueba la expresión de prueba. El cuerpo del ciclo se ingresa solo si `test_expression`  se evalúa como `True`. Después de una iteración, la expresión de prueba se verifica nuevamente. Este proceso continúa hasta que `test_expression` se evalue como `False`."
   ]
  },
  {
   "cell_type": "code",
   "execution_count": 14,
   "id": "be8de173",
   "metadata": {},
   "outputs": [
    {
     "name": "stdout",
     "output_type": "stream",
     "text": [
      "4\n",
      "3\n",
      "2\n",
      "1\n",
      "0\n"
     ]
    }
   ],
   "source": [
    "x = 5\n",
    "while x > 0:\n",
    "    x -=1\n",
    "    print(x)"
   ]
  },
  {
   "cell_type": "markdown",
   "id": "b1f56107",
   "metadata": {},
   "source": [
    "### Ejercicio 2\n",
    "\n",
    "Una empresa de ropa de la ciudad de Cali, va a lanzar una promoción sobre sus productos de \n",
    "la siguiente manera: \n",
    "\n",
    "Si el cliente compra menos de 5 productos, y si estos productos tienen un valor total menor a 100.000 COP, entonces se realizará un descuento del 10%. Si la compra es por un valor mayor o igual a 100.000 COP, el descuento es del 15% \n",
    "Si el cliente compra entre 5 a 10 productos, y el valor total de estos es mayor a 500.000 COP entonces se realizará un descuento del 20%, de lo contrario el descuento es del 18%. \n",
    "Si el cliente compra más de 10 productos y el valor total de la compra es menor a 1.000.000, el descuento será del 30%, en caso contrario el descuento es del 40%.\n",
    "\n",
    "Escriba un programa en Python que permita calcular el valor total a pagar del cliente teniendo en cuenta las condiciones dadas anteriormente,."
   ]
  },
  {
   "cell_type": "markdown",
   "id": "b7866285",
   "metadata": {},
   "source": [
    "### Ejercicio 3\n",
    "\n",
    "Escribir un programa en el que se pregunte al usuario por una frase y una letra, y muestre por pantalla el número de veces que aparece la letra en la frase."
   ]
  },
  {
   "cell_type": "markdown",
   "id": "412d574d",
   "metadata": {},
   "source": [
    "### Ejercicio 4\n",
    "\n",
    "Realice un programa que permita resolver la siguiente sumatoria:\n",
    "\n",
    "$ \\sum_{i=1}^{n}(n^3+n^2+3)  $"
   ]
  },
  {
   "cell_type": "markdown",
   "id": "86b9ccbb",
   "metadata": {},
   "source": [
    "## 3. Funciones\n",
    "---\n",
    "\n",
    "Las funciones son bloques de código que se pueden reutilizar simplemente llamando a la función.\n",
    "\n",
    "```\n",
    "def identificador(param1, param2,..):\n",
    "    inst1\n",
    "    inst2\n",
    "    .\n",
    "    .\n",
    "    return valor\n",
    "```\n",
    "\n",
    "Para definir una función en Python se utiliza la palabra reservada `def`. A continuación viene el nombre o identificador de la función que es el que se utiliza para invocarla dentro del código. Después del nombre hay que incluir los paréntesis y una lista opcional de parámetros. Por último, la definición de la función termina con dos puntos.\n",
    "\n",
    "Tras los dos puntos se incluye el cuerpo de la función, en donde se encuentra el conjunto de instrucciones que se encapsulan en dicha función y finalmente, de manera opcional, se añade la instrucción con la palabra reservada `return` para devolver un resultado.\n"
   ]
  },
  {
   "cell_type": "code",
   "execution_count": 15,
   "id": "c20f69f3",
   "metadata": {},
   "outputs": [
    {
     "name": "stdout",
     "output_type": "stream",
     "text": [
      "Hola, estoy en la función\n"
     ]
    }
   ],
   "source": [
    "def new_function():\n",
    "  print(\"Hola, estoy en la función\")\n",
    "\n",
    "new_function()"
   ]
  },
  {
   "cell_type": "markdown",
   "id": "6b2059fe",
   "metadata": {},
   "source": [
    "Las funciones permiten la reutilización de código es decir, que se evita escribir nuevamente secciones de código. Esto hace que el código sea más legible, facilita la depuración y limita los errores de escritura."
   ]
  },
  {
   "cell_type": "code",
   "execution_count": 20,
   "id": "4d466544",
   "metadata": {},
   "outputs": [
    {
     "name": "stdout",
     "output_type": "stream",
     "text": [
      " Hola, Camilo\n",
      " Hola, Juan\n",
      " Hola, Maria\n"
     ]
    }
   ],
   "source": [
    "def func_name(nombre):\n",
    "  print(\" Hola,\", nombre)\n",
    "\n",
    "# Importante tener en cuenta la cantidad de argumentos que la función recibira\n",
    "\n",
    "func_name(\"Camilo\")\n",
    "func_name(\"Juan\")\n",
    "func_name(\"Maria\")"
   ]
  },
  {
   "cell_type": "markdown",
   "id": "0ddb1c5f",
   "metadata": {},
   "source": [
    "### Ejercicio 5\n",
    "\n",
    "Realice un programa que pida n cantidad de numeros y por medio de un mensaje, muestre si el numero es par o no."
   ]
  },
  {
   "cell_type": "code",
   "execution_count": null,
   "id": "f34b4b59",
   "metadata": {},
   "outputs": [],
   "source": []
  },
  {
   "cell_type": "markdown",
   "id": "346bdb11",
   "metadata": {},
   "source": [
    "### Referencias:\n",
    "    \n",
    "https://www.w3schools.com/PYTHON/"
   ]
  }
 ],
 "metadata": {
  "kernelspec": {
   "display_name": "Python 3 (ipykernel)",
   "language": "python",
   "name": "python3"
  },
  "language_info": {
   "codemirror_mode": {
    "name": "ipython",
    "version": 3
   },
   "file_extension": ".py",
   "mimetype": "text/x-python",
   "name": "python",
   "nbconvert_exporter": "python",
   "pygments_lexer": "ipython3",
   "version": "3.9.7"
  }
 },
 "nbformat": 4,
 "nbformat_minor": 5
}
