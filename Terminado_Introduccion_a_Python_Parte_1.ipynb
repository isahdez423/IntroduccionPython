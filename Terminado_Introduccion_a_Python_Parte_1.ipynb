{
  "cells": [
    {
      "cell_type": "markdown",
      "metadata": {
        "id": "view-in-github",
        "colab_type": "text"
      },
      "source": [
        "<a href=\"https://colab.research.google.com/github/isahdez423/IntroduccionPython/blob/main/Terminado_Introduccion_a_Python_Parte_1.ipynb\" target=\"_parent\"><img src=\"https://colab.research.google.com/assets/colab-badge.svg\" alt=\"Open In Colab\"/></a>"
      ]
    },
    {
      "cell_type": "markdown",
      "id": "f751d016",
      "metadata": {
        "id": "f751d016"
      },
      "source": [
        "# Taller de verano: Introducción a Python - Parte 1"
      ]
    },
    {
      "cell_type": "markdown",
      "source": [
        "`**Nombre: Isabella Hernandez**`\n",
        "\n",
        "Hola\n",
        "\n",
        "```\n",
        "# Tiene formato de código\n",
        "```\n",
        "\n"
      ],
      "metadata": {
        "id": "OgEh_yiRv3VD"
      },
      "id": "OgEh_yiRv3VD"
    },
    {
      "cell_type": "code",
      "source": [
        "print(\"Hola mundo\")"
      ],
      "metadata": {
        "colab": {
          "base_uri": "https://localhost:8080/"
        },
        "id": "Ri3PbTjmyOKi",
        "outputId": "4d116fb1-525d-47ad-d0df-df3688d13401"
      },
      "id": "Ri3PbTjmyOKi",
      "execution_count": null,
      "outputs": [
        {
          "output_type": "stream",
          "name": "stdout",
          "text": [
            "Hola mundo\n"
          ]
        }
      ]
    },
    {
      "cell_type": "markdown",
      "id": "af1f6dd8",
      "metadata": {
        "id": "af1f6dd8"
      },
      "source": [
        "\n",
        "# **Lenguaje de programación Python**\n",
        "---\n",
        "<img src = \"https://www.python.org/static/community_logos/python-logo-inkscape.svg\" alt = \"Python Logo\" width = \"70%\">  </img>\n",
        "\n",
        "\n",
        "Python es un lenguaje de programación de propósito general muy poderoso y flexible, a la vez que sencillo y fácil de aprender. Es un lenguaje de alto nivel, que permite procesar fácilmente todo tipo de estructuras de datos, tanto numéricos como de texto.\n",
        "![image.png](attachment:image.png) Python fue creado a principio de los 1990 desarrollado por Guido Van Rossum a manera de hobby. Este fue un ingeniero holandés se encontraba trabajando en aquel entonces en el Centro de Investigación de Ciencias de la Computación, en Amsterdam. El nombre de Python fue seleccionado del grupo de comedia británico Monty Python, debido a que Guido era un fanático de este."
      ]
    },
    {
      "cell_type": "markdown",
      "id": "07ccf5da",
      "metadata": {
        "id": "07ccf5da"
      },
      "source": [
        "## **1. Comentarios**\n",
        "---"
      ]
    },
    {
      "cell_type": "markdown",
      "id": "76ea937e",
      "metadata": {
        "id": "76ea937e"
      },
      "source": [
        "Un comentario es una línea de texto no ejecutable, esto quiere decir que el compilador o intérprete no la tomará como una línea de código. Los comentarios en Python, así como en otros lenguajes de programación, sirven para dejar pequeñas explicaciones sobre qué es lo que hace el programa."
      ]
    },
    {
      "cell_type": "code",
      "execution_count": null,
      "id": "7a5b64a7",
      "metadata": {
        "id": "7a5b64a7",
        "colab": {
          "base_uri": "https://localhost:8080/"
        },
        "outputId": "48009245-76ef-4e5a-a8cd-db74a0a0247c"
      },
      "outputs": [
        {
          "output_type": "stream",
          "name": "stdout",
          "text": [
            "Mostramos esto por pantalla\n"
          ]
        }
      ],
      "source": [
        "# Hola, estoy comentando en Python\n",
        "print(\"Mostramos esto por pantalla\") #Aquí se mejora la comprensión del código "
      ]
    },
    {
      "cell_type": "markdown",
      "id": "f522902f",
      "metadata": {
        "id": "f522902f"
      },
      "source": [
        "A continuación, se crea una cadena de texto multilínea la cual no se asigna a ninguna variable. Al no asignarse a una variable su uso es nulo y por esta razón, podemos utilizarla para realizar comentarios."
      ]
    },
    {
      "cell_type": "code",
      "source": [
        "m = \"hola\"\n",
        "print(m)"
      ],
      "metadata": {
        "colab": {
          "base_uri": "https://localhost:8080/"
        },
        "id": "vcMiVU1SwjK0",
        "outputId": "3f775fc1-424a-4edf-e33f-c1a0a9e2f3cb"
      },
      "id": "vcMiVU1SwjK0",
      "execution_count": null,
      "outputs": [
        {
          "output_type": "stream",
          "name": "stdout",
          "text": [
            "hola\n"
          ]
        }
      ]
    },
    {
      "cell_type": "code",
      "execution_count": null,
      "id": "f71b93c6",
      "metadata": {
        "id": "f71b93c6",
        "outputId": "ba6d2ffb-da6c-481c-eb4d-f8cfdf9ad9de"
      },
      "outputs": [
        {
          "data": {
            "text/plain": [
              "'\\nHola, soy un comentario\\ncon varias líneas\\n'"
            ]
          },
          "execution_count": 15,
          "metadata": {},
          "output_type": "execute_result"
        }
      ],
      "source": [
        "'''\n",
        "Hola, soy un comentario\n",
        "con varias líneas\n",
        "'''"
      ]
    },
    {
      "cell_type": "markdown",
      "id": "5984602e",
      "metadata": {
        "id": "5984602e"
      },
      "source": [
        "> **Nota:** Técnicamente las expresiones con la notación con tres comillas `'''` no son comentarios validos de *Python*, pero en la mayoría de casos se comportan de manera similar y se pueden utilizar como tal.\n"
      ]
    },
    {
      "cell_type": "markdown",
      "id": "012f948c",
      "metadata": {
        "id": "012f948c"
      },
      "source": [
        "## **2. Entrada y salida**"
      ]
    },
    {
      "cell_type": "markdown",
      "id": "742d6d4d",
      "metadata": {
        "id": "742d6d4d"
      },
      "source": [
        "Los programas escritos en *Python* y los entornos de ejecución (como *Google Colab*) permiten al usuario interactuar de formas distintas. El usuario introduce información en forma de archivos, datos en la nube, o acciones de periféricos como el teclado y ratón, y los entornos de ejecución ejecutan el programa de *Python*. En consecuencia, le devuelven al usuario una respuesta en forma de texto, imagen o contenidos interactivos complejos. A continuación, conocera las funciones de **entrada y salida de texto**. Las más comunes y más útiles en los primeros pasos del aprendizaje del lenguaje son las funciones **`input`** y **`print`**.\n",
        "\n",
        "Cuando se ejecuta  **`input()`**  la consola de Python espera que se le entregue texto, que puede escribir con su teclado o pegar del portapapeles, para luego hacer algo con este, como almacenarlo en una variable. Por otro lado,  **`print()`**  escribirá en consola texto que este almacenado previamente."
      ]
    },
    {
      "cell_type": "code",
      "execution_count": null,
      "id": "c051fe9b",
      "metadata": {
        "id": "c051fe9b",
        "outputId": "e20f4510-ab04-4a9d-c55a-58540b2f2eee",
        "colab": {
          "base_uri": "https://localhost:8080/"
        }
      },
      "outputs": [
        {
          "name": "stdout",
          "output_type": "stream",
          "text": [
            "Hola. ¿Cómo te llamas?\n",
            "isa\n"
          ]
        }
      ],
      "source": [
        "nombre = input('Hola. ¿Cómo te llamas?\\n')"
      ]
    },
    {
      "cell_type": "code",
      "execution_count": null,
      "id": "ef7f19b2",
      "metadata": {
        "id": "ef7f19b2",
        "colab": {
          "base_uri": "https://localhost:8080/"
        },
        "outputId": "60638e1c-8181-444a-ae78-00ac764d8132"
      },
      "outputs": [
        {
          "output_type": "stream",
          "name": "stdout",
          "text": [
            "¿Cómo se llama?\n",
            "isa\n",
            "¿Cual es su edad?\n",
            "3\n",
            "Me alegro de conocerle, isa\n",
            "Con 3 años\n"
          ]
        }
      ],
      "source": [
        "print(\"¿Cómo se llama?\")\n",
        "nombre = input()\n",
        "print(\"¿Cual es su edad?\")\n",
        "edad = input()\n",
        "print(f\"Me alegro de conocerle, {nombre}\")\n",
        "print(f\"Con {edad} años\")"
      ]
    },
    {
      "cell_type": "markdown",
      "id": "b33c758b",
      "metadata": {
        "id": "b33c758b"
      },
      "source": [
        "**Nota:** De forma predeterminada, la función input()  siempre que lee algún dato, lo retorna como un string, incluso aunque sea un número válido y por ejemplo, si intentamos hacer operaciones, se producirá un error."
      ]
    },
    {
      "cell_type": "code",
      "execution_count": null,
      "id": "11db15a9",
      "metadata": {
        "id": "11db15a9",
        "colab": {
          "base_uri": "https://localhost:8080/",
          "height": 200
        },
        "outputId": "8c855aa6-61e1-4d5d-cefd-2975ee2f4643"
      },
      "outputs": [
        {
          "name": "stdout",
          "output_type": "stream",
          "text": [
            "Dígame una cantidad en pesetas: jm\n"
          ]
        },
        {
          "output_type": "error",
          "ename": "TypeError",
          "evalue": "ignored",
          "traceback": [
            "\u001b[0;31m---------------------------------------------------------------------------\u001b[0m",
            "\u001b[0;31mTypeError\u001b[0m                                 Traceback (most recent call last)",
            "\u001b[0;32m<ipython-input-14-ceb57c48d378>\u001b[0m in \u001b[0;36m<module>\u001b[0;34m()\u001b[0m\n\u001b[1;32m      1\u001b[0m \u001b[0mcantidad\u001b[0m \u001b[0;34m=\u001b[0m \u001b[0minput\u001b[0m\u001b[0;34m(\u001b[0m\u001b[0;34m\"Dígame una cantidad en pesetas: \"\u001b[0m\u001b[0;34m)\u001b[0m\u001b[0;34m\u001b[0m\u001b[0;34m\u001b[0m\u001b[0m\n\u001b[0;32m----> 2\u001b[0;31m \u001b[0mprint\u001b[0m\u001b[0;34m(\u001b[0m\u001b[0;34mf\"{cantidad} pesetas son {round(cantidad / 166.386, 2)} euros\"\u001b[0m\u001b[0;34m)\u001b[0m\u001b[0;34m\u001b[0m\u001b[0;34m\u001b[0m\u001b[0m\n\u001b[0m",
            "\u001b[0;31mTypeError\u001b[0m: unsupported operand type(s) for /: 'str' and 'float'"
          ]
        }
      ],
      "source": [
        "cantidad = input(\"Dígame una cantidad en pesetas: \")\n",
        "print(f\"{cantidad} pesetas son {round(cantidad / 166.386, 2)} euros\")"
      ]
    },
    {
      "cell_type": "markdown",
      "id": "5fb7a585",
      "metadata": {
        "id": "5fb7a585"
      },
      "source": [
        "Para evitar lo mencionado anteriormente, se debe convertir el dato a número (float o int) según lo que se requiera en el programa. Veamos entonces cómo leer y convertir los números de la entrada en Python."
      ]
    },
    {
      "cell_type": "markdown",
      "id": "8f3c733f",
      "metadata": {
        "id": "8f3c733f"
      },
      "source": [
        "**Ejemplo:** Si se quiere que Python interprete la entrada como un número entero, se debe utilizar la función int() de la siguiente manera:"
      ]
    },
    {
      "cell_type": "code",
      "execution_count": null,
      "id": "97620011",
      "metadata": {
        "id": "97620011",
        "colab": {
          "base_uri": "https://localhost:8080/"
        },
        "outputId": "82a34ba4-fc85-483c-cb38-d44fc79cc5df"
      },
      "outputs": [
        {
          "output_type": "stream",
          "name": "stdout",
          "text": [
            "Dígame una cantidad en pesetas: 40\n",
            "40 pesetas son 0.24 euros\n"
          ]
        }
      ],
      "source": [
        "cantidad = int(input(\"Dígame una cantidad en pesetas: \"))\n",
        "print(f\"{cantidad} pesetas son {round(cantidad / 166.386, 2)} euros\")"
      ]
    },
    {
      "cell_type": "markdown",
      "id": "20890d84",
      "metadata": {
        "id": "20890d84"
      },
      "source": [
        "**Ejemplo:** Modifique el código anterior de tal manera que Python interprete la entrada como un float e imprima el valor con un redondeo de 3 dígitos."
      ]
    },
    {
      "cell_type": "markdown",
      "id": "43504d07",
      "metadata": {
        "id": "43504d07"
      },
      "source": [
        "## **3. Tipos de dato y operadores**\n",
        "---\n",
        "\n",
        "El tipo de un dato es un atributo que determina qué operaciones se pueden realizar y qué valores puede tomar. Estos pueden ser números, listas, texto, entre otros. En *Python*, los tipos de dato no son definidos explícitamente, pero siempre están presentes en las variables que declaramos y es necesario tenerlos en cuenta. En particular, el tipo de dato define las operaciones válidas entre datos del mismo tipo. Estas operaciones están definidas con el uso de símbolos llamados **operadores**.\n",
        "\n",
        "Para conocer el tipo de dato de una variable, se usa la función **`type`**.\n"
      ]
    },
    {
      "cell_type": "code",
      "source": [
        "num = 40\n",
        "print(type(num))\n",
        "Persona = 3"
      ],
      "metadata": {
        "colab": {
          "base_uri": "https://localhost:8080/"
        },
        "id": "YnPWOdkT0kqy",
        "outputId": "06be497d-db79-435d-80e3-668b39c542b6"
      },
      "id": "YnPWOdkT0kqy",
      "execution_count": null,
      "outputs": [
        {
          "output_type": "stream",
          "name": "stdout",
          "text": [
            "<class 'int'>\n"
          ]
        }
      ]
    },
    {
      "cell_type": "markdown",
      "id": "88615c79",
      "metadata": {
        "id": "88615c79"
      },
      "source": [
        "### **3.1. Cadenas de texto**\n",
        "---\n",
        "Un tipo de dato muy importante es el de las cadenas de texto. Estas cadenas permiten almacenar en un mismo dato texto con cualquier cantidad de caracteres. Para definir una cadena de texto, se rodea el texto con comillas simples `'` o comillas dobles `\"`."
      ]
    },
    {
      "cell_type": "code",
      "execution_count": null,
      "id": "d89a58f0",
      "metadata": {
        "id": "d89a58f0",
        "colab": {
          "base_uri": "https://localhost:8080/",
          "height": 36
        },
        "outputId": "d02db458-1ea5-49d6-b744-39bc3ae7c30d"
      },
      "outputs": [
        {
          "output_type": "execute_result",
          "data": {
            "text/plain": [
              "'cadena con comilla simple'"
            ],
            "application/vnd.google.colaboratory.intrinsic+json": {
              "type": "string"
            }
          },
          "metadata": {},
          "execution_count": 18
        }
      ],
      "source": [
        "'cadena con comilla simple'"
      ]
    },
    {
      "cell_type": "code",
      "execution_count": null,
      "id": "fb68ab74",
      "metadata": {
        "id": "fb68ab74",
        "colab": {
          "base_uri": "https://localhost:8080/",
          "height": 36
        },
        "outputId": "4ca24737-ad7e-49ce-dbbc-3a1204ec2e6f"
      },
      "outputs": [
        {
          "output_type": "execute_result",
          "data": {
            "text/plain": [
              "'cadena con comillas dobles'"
            ],
            "application/vnd.google.colaboratory.intrinsic+json": {
              "type": "string"
            }
          },
          "metadata": {},
          "execution_count": 19
        }
      ],
      "source": [
        "\"cadena con comillas dobles\""
      ]
    },
    {
      "cell_type": "markdown",
      "id": "e889e620",
      "metadata": {
        "id": "e889e620"
      },
      "source": [
        "Las cadenas se pueden almacenar en variables, así:"
      ]
    },
    {
      "cell_type": "code",
      "execution_count": null,
      "id": "559ea21b",
      "metadata": {
        "id": "559ea21b"
      },
      "outputs": [],
      "source": [
        "c = ' ¡Pontificia Universidad Javeriana Cali! '"
      ]
    },
    {
      "cell_type": "code",
      "execution_count": null,
      "id": "589215b7",
      "metadata": {
        "id": "589215b7",
        "colab": {
          "base_uri": "https://localhost:8080/"
        },
        "outputId": "0290104d-b06a-4065-f03f-80f4d8ffcf78"
      },
      "outputs": [
        {
          "output_type": "stream",
          "name": "stdout",
          "text": [
            " ¡Pontificia Universidad Javeriana Cali! \n"
          ]
        }
      ],
      "source": [
        "print(c)"
      ]
    },
    {
      "cell_type": "markdown",
      "id": "211da97d",
      "metadata": {
        "id": "211da97d"
      },
      "source": [
        "Algunos operadores de los usados para valores numéricos también sirven al operar con *strings* pero con utilidad distinta:\n",
        "\n",
        "\n",
        "*  Concatenación `+`. \n",
        "*  Repetición `*`. \n",
        "*  Formato `%`. "
      ]
    },
    {
      "cell_type": "markdown",
      "id": "a1df1547",
      "metadata": {
        "id": "a1df1547"
      },
      "source": [
        "#### Concatenación"
      ]
    },
    {
      "cell_type": "code",
      "source": [
        "c = ' ¡Pontificia Universidad Javeriana Cali! '\n",
        "name = \" Andres \"\n",
        "c + name"
      ],
      "metadata": {
        "colab": {
          "base_uri": "https://localhost:8080/",
          "height": 36
        },
        "id": "z_aI87TE0515",
        "outputId": "ae20b4b2-ace3-45a0-d5e3-8fe368a04c3f"
      },
      "id": "z_aI87TE0515",
      "execution_count": null,
      "outputs": [
        {
          "output_type": "execute_result",
          "data": {
            "text/plain": [
              "' ¡Pontificia Universidad Javeriana Cali!  Andres '"
            ],
            "application/vnd.google.colaboratory.intrinsic+json": {
              "type": "string"
            }
          },
          "metadata": {},
          "execution_count": 23
        }
      ]
    },
    {
      "cell_type": "markdown",
      "id": "50466eab",
      "metadata": {
        "id": "50466eab"
      },
      "source": [
        "#### Repetición"
      ]
    },
    {
      "cell_type": "code",
      "source": [
        "name * 3"
      ],
      "metadata": {
        "colab": {
          "base_uri": "https://localhost:8080/",
          "height": 36
        },
        "id": "Mj1BkIxx1PKP",
        "outputId": "c9d9b11b-1c86-49d7-8826-31195707c761"
      },
      "id": "Mj1BkIxx1PKP",
      "execution_count": null,
      "outputs": [
        {
          "output_type": "execute_result",
          "data": {
            "text/plain": [
              "' Andres  Andres  Andres '"
            ],
            "application/vnd.google.colaboratory.intrinsic+json": {
              "type": "string"
            }
          },
          "metadata": {},
          "execution_count": 24
        }
      ]
    },
    {
      "cell_type": "markdown",
      "id": "06371e12",
      "metadata": {
        "id": "06371e12"
      },
      "source": [
        "#### Formato"
      ]
    },
    {
      "cell_type": "markdown",
      "id": "d07a6a71",
      "metadata": {
        "id": "d07a6a71"
      },
      "source": [
        "Este operador permite reemplazar los marcadores de posición (%_) dentro de la string con la o las variables que se encuentren después del operador (%)."
      ]
    },
    {
      "cell_type": "code",
      "execution_count": null,
      "id": "53c28cfd",
      "metadata": {
        "id": "53c28cfd",
        "outputId": "0fc8b752-826f-4b82-86f9-262591e19ebe"
      },
      "outputs": [
        {
          "name": "stdout",
          "output_type": "stream",
          "text": [
            "el resultado de raíz cuadrada de dos es 1.414214\n"
          ]
        }
      ],
      "source": [
        "tipo_calculo = \"raíz cuadrada de dos\"\n",
        "valor = 2**0.5\n",
        "print (\"el resultado de %s es %f\" % (tipo_calculo, valor))"
      ]
    },
    {
      "cell_type": "markdown",
      "id": "a52bfa77",
      "metadata": {
        "id": "a52bfa77"
      },
      "source": [
        "Las cadenas, como objetos que son, nos proporcionan métodos que nos facilitan su manipulación. Por ejemplo, siendo **`s`** una variable con un **`string`**:"
      ]
    },
    {
      "cell_type": "markdown",
      "id": "6a7a2780",
      "metadata": {
        "id": "6a7a2780"
      },
      "source": [
        "\n",
        "*  **`s.lower()`** : Retorna la cadena con todos los caracteres alfabéticos en minúscula.\n",
        "*  **`s.upper()`** : Retorna la cadena con todos los caracteres alfabéticos en mayúscula.\n",
        "*  **`s.replace(a, b)`** : Reemplaza las subcadenas iguales a la cadena **`a`** con el valor de la cadena **`b`**.\n",
        "*  **`s.strip()`** : Retorna la cadena con todos los espacios en blanco al principio y al final removidos.\n",
        "*  **`s.islower()`** : Determina si la cadena está compuesta solo por caracteres en mayúscula.\n",
        "*  **`s.isupper()`** : Determina si la cadena está compuesta solo por caracteres en mayúscula.\n",
        "*  **`s.isdigit()`** : Determina si la cadena está compuesta solo por dígitos del 0 al 9.\n",
        "*  **`s.isalpha()`** : Determina si la cadena está compuesta solo por caracteres alfabéticos."
      ]
    },
    {
      "cell_type": "code",
      "source": [
        "c = ' ¡Pontificia Universidad Javeriana Cali! '\n",
        "c.lower()\n",
        "c.upper()\n",
        "c.replace('a','x')\n",
        "#c.strip()\n",
        "#c = c.upper()\n",
        "#print(c)"
      ],
      "metadata": {
        "colab": {
          "base_uri": "https://localhost:8080/",
          "height": 35
        },
        "id": "x0EGjei92JA-",
        "outputId": "24ffe6c5-cf24-4a5a-ca0c-846389c98f09"
      },
      "id": "x0EGjei92JA-",
      "execution_count": 6,
      "outputs": [
        {
          "output_type": "execute_result",
          "data": {
            "text/plain": [
              "' ¡Pontificix Universidxd Jxverixnx Cxli! '"
            ],
            "application/vnd.google.colaboratory.intrinsic+json": {
              "type": "string"
            }
          },
          "metadata": {},
          "execution_count": 6
        }
      ]
    },
    {
      "cell_type": "markdown",
      "id": "2fbc80fa",
      "metadata": {
        "id": "2fbc80fa"
      },
      "source": [
        "Cada uno de los caracteres de una cadena (incluidos los espacios) tiene asignado un índice. Este indice nos permite seleccionar su carácter asociado haciendo referencia a él entre corchetes ([  ])"
      ]
    },
    {
      "cell_type": "markdown",
      "id": "411592f8",
      "metadata": {
        "id": "411592f8"
      },
      "source": [
        "![image.png](data:image/png;base64,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)\n"
      ]
    },
    {
      "cell_type": "code",
      "source": [
        "c = '¡Pontificia Universidad Javeriana Cali!'\n",
        "c[:3]\n",
        "c[-1]"
      ],
      "metadata": {
        "colab": {
          "base_uri": "https://localhost:8080/",
          "height": 36
        },
        "id": "RkJ-Ltsm3NG7",
        "outputId": "5b7768a7-b425-46c4-8a43-5db69fde5931"
      },
      "id": "RkJ-Ltsm3NG7",
      "execution_count": null,
      "outputs": [
        {
          "output_type": "execute_result",
          "data": {
            "text/plain": [
              "'!'"
            ],
            "application/vnd.google.colaboratory.intrinsic+json": {
              "type": "string"
            }
          },
          "metadata": {},
          "execution_count": 38
        }
      ]
    },
    {
      "cell_type": "markdown",
      "id": "5feee3b0",
      "metadata": {
        "id": "5feee3b0"
      },
      "source": [
        "### **3.2. Valores y operadores numéricos**\n",
        "---"
      ]
    },
    {
      "cell_type": "markdown",
      "id": "e529cb63",
      "metadata": {
        "id": "e529cb63"
      },
      "source": [
        "En *Python*, los valores numéricos pueden ser de tres formas:\n",
        "\n",
        "*   Números enteros. **(int)**\n",
        "*   Números decimales. **(float)**\n",
        "*   Números complejos. **(complex)**"
      ]
    },
    {
      "cell_type": "code",
      "execution_count": null,
      "id": "8f37ed90",
      "metadata": {
        "id": "8f37ed90",
        "colab": {
          "base_uri": "https://localhost:8080/"
        },
        "outputId": "49f958ff-1362-43e0-eb8b-1ad1febbee5c"
      },
      "outputs": [
        {
          "output_type": "stream",
          "name": "stdout",
          "text": [
            "10\n",
            "<class 'int'>\n"
          ]
        }
      ],
      "source": [
        "a = 10     \t      #int\n",
        "print(a)\n",
        "print(type(a))"
      ]
    },
    {
      "cell_type": "code",
      "execution_count": null,
      "id": "cd450c36",
      "metadata": {
        "id": "cd450c36",
        "colab": {
          "base_uri": "https://localhost:8080/"
        },
        "outputId": "cabd003d-9ba4-484d-baf2-a2b6bddb79b3"
      },
      "outputs": [
        {
          "output_type": "stream",
          "name": "stdout",
          "text": [
            "-1089\n",
            "<class 'int'>\n"
          ]
        }
      ],
      "source": [
        "a = -1089 \t      #int - Se pueden escribir números negativos con el símbolo ‘-’\n",
        "print(a)\n",
        "print(type(a))"
      ]
    },
    {
      "cell_type": "code",
      "execution_count": null,
      "id": "91ae8e1d",
      "metadata": {
        "id": "91ae8e1d",
        "outputId": "9cc78428-c7e4-4174-9068-4764843e8c23",
        "colab": {
          "base_uri": "https://localhost:8080/"
        }
      },
      "outputs": [
        {
          "output_type": "stream",
          "name": "stdout",
          "text": [
            "1e+100\n",
            "<class 'float'>\n"
          ]
        }
      ],
      "source": [
        "a = 1e100 \t      #float - Esta sintaxis representa notación científica.\n",
        "print(a)\n",
        "print(type(a))"
      ]
    },
    {
      "cell_type": "code",
      "execution_count": null,
      "id": "8385e0f3",
      "metadata": {
        "id": "8385e0f3",
        "outputId": "4f57342c-327d-40e5-e1a5-af60ff28939c",
        "colab": {
          "base_uri": "https://localhost:8080/"
        }
      },
      "outputs": [
        {
          "output_type": "stream",
          "name": "stdout",
          "text": [
            "(1+0.2j)\n",
            "<class 'complex'>\n"
          ]
        }
      ],
      "source": [
        "a = 1 + 0.2j      #complex\n",
        "print(a)\n",
        "print(type(a))"
      ]
    },
    {
      "cell_type": "markdown",
      "id": "4c175887",
      "metadata": {
        "id": "4c175887"
      },
      "source": [
        "Como obtener la parte real e imaginaria de un numero complejo:"
      ]
    },
    {
      "cell_type": "code",
      "execution_count": null,
      "id": "bb789335",
      "metadata": {
        "id": "bb789335",
        "outputId": "42062eb3-7396-4171-e242-5a9090b86ada"
      },
      "outputs": [
        {
          "data": {
            "text/plain": [
              "2.0"
            ]
          },
          "execution_count": 1,
          "metadata": {},
          "output_type": "execute_result"
        }
      ],
      "source": [
        "(2.0+8.0j).real"
      ]
    },
    {
      "cell_type": "code",
      "execution_count": null,
      "id": "4b8d3e16",
      "metadata": {
        "id": "4b8d3e16",
        "outputId": "ff559b0d-b7f3-455d-fab6-21077fd61520"
      },
      "outputs": [
        {
          "data": {
            "text/plain": [
              "5.3"
            ]
          },
          "execution_count": 2,
          "metadata": {},
          "output_type": "execute_result"
        }
      ],
      "source": [
        "(4.0+5.3j).imag"
      ]
    },
    {
      "cell_type": "code",
      "source": [
        "a = 2.0+8.0j\n",
        "b = 4.0+5.3j\n",
        "(a+b).imag"
      ],
      "metadata": {
        "colab": {
          "base_uri": "https://localhost:8080/"
        },
        "id": "NEFuKfHb4I9F",
        "outputId": "544e8512-1fb1-43c0-ff4c-ea34e46fc9f2"
      },
      "id": "NEFuKfHb4I9F",
      "execution_count": null,
      "outputs": [
        {
          "output_type": "execute_result",
          "data": {
            "text/plain": [
              "13.3"
            ]
          },
          "metadata": {},
          "execution_count": 46
        }
      ]
    },
    {
      "cell_type": "markdown",
      "id": "93e8bdd7",
      "metadata": {
        "id": "93e8bdd7"
      },
      "source": [
        "Existen varios operadores matemáticos para estos valores numéricos. Estos son:"
      ]
    },
    {
      "cell_type": "markdown",
      "id": "82a486bf",
      "metadata": {
        "id": "82a486bf"
      },
      "source": [
        "Simbolos |Operaciones \n",
        "-----|-----\n",
        " +| Suma\n",
        "*|Multiplicación\n",
        "/|División de numeros flotantes\n",
        "//|División de números enteros\n",
        "%|Módulo\n",
        "**|Exponencial"
      ]
    },
    {
      "cell_type": "code",
      "source": [
        "3**2"
      ],
      "metadata": {
        "colab": {
          "base_uri": "https://localhost:8080/"
        },
        "id": "PGTTDR9g4iWw",
        "outputId": "e1dc79fd-d610-4e51-b895-3012f9533572"
      },
      "id": "PGTTDR9g4iWw",
      "execution_count": null,
      "outputs": [
        {
          "output_type": "execute_result",
          "data": {
            "text/plain": [
              "9"
            ]
          },
          "metadata": {},
          "execution_count": 47
        }
      ]
    },
    {
      "cell_type": "code",
      "source": [
        "12%2"
      ],
      "metadata": {
        "colab": {
          "base_uri": "https://localhost:8080/"
        },
        "id": "XGX6EZLW4mr8",
        "outputId": "5edf695e-9b60-456b-d970-15fc46145668"
      },
      "id": "XGX6EZLW4mr8",
      "execution_count": null,
      "outputs": [
        {
          "output_type": "execute_result",
          "data": {
            "text/plain": [
              "0"
            ]
          },
          "metadata": {},
          "execution_count": 48
        }
      ]
    },
    {
      "cell_type": "markdown",
      "id": "020b0618",
      "metadata": {
        "id": "020b0618"
      },
      "source": [
        "## Operados logicos \n",
        "\n",
        "Otro tipo de dato importante es el **booleano**, que representa un valor lógico de verdad. Puede tomar únicamente estos dos valores:\n",
        "\n",
        "*  Verdadero: `True`\n",
        "*  Falso: `False`\n",
        "\n",
        "\n",
        "En *Python*, a diferencia de otros lenguajes de programación, las primitivas lógicas son escritas con la primera letra en mayúscula.\n",
        "\n",
        "Además de con el uso de las dos primitivas lógicas (**`True`** y **`False`**), se pueden obtener valores lógicos con la evaluación de expresiones con **operadores relacionales**. Los cuales se encuentran a continuación:\n",
        "\n",
        "Simbolos |Operaciones \n",
        "-----|-----\n",
        " == | Igual\n",
        " != | Diferente\n",
        " < | Menor que\n",
        " <= | Menor igual que\n",
        " $>$ | Mayor que\n",
        " $>=$ | Mayor e igual que"
      ]
    },
    {
      "cell_type": "code",
      "execution_count": null,
      "id": "b437e3ed",
      "metadata": {
        "id": "b437e3ed",
        "outputId": "996e9ee7-28ea-41c2-f17f-5fbee531792e",
        "colab": {
          "base_uri": "https://localhost:8080/"
        }
      },
      "outputs": [
        {
          "output_type": "stream",
          "name": "stdout",
          "text": [
            "False\n"
          ]
        }
      ],
      "source": [
        "print(-10  >   4.0)  # Mayor que.   "
      ]
    },
    {
      "cell_type": "code",
      "execution_count": null,
      "id": "b98dad16",
      "metadata": {
        "id": "b98dad16",
        "outputId": "2322a11e-0537-4e41-faa8-3f1004772729",
        "colab": {
          "base_uri": "https://localhost:8080/"
        }
      },
      "outputs": [
        {
          "output_type": "stream",
          "name": "stdout",
          "text": [
            "True\n"
          ]
        }
      ],
      "source": [
        "print(-10  !=  4.0)  # Distinto que."
      ]
    },
    {
      "cell_type": "code",
      "source": [
        "a = 'Michele'\n",
        "b = 'Santi'\n",
        "a < b\n",
        "b != a"
      ],
      "metadata": {
        "colab": {
          "base_uri": "https://localhost:8080/"
        },
        "id": "8aAfzOQx50ak",
        "outputId": "ac6dd5ed-6b4e-4e67-b1fc-22b2d2bb79ab"
      },
      "id": "8aAfzOQx50ak",
      "execution_count": null,
      "outputs": [
        {
          "output_type": "execute_result",
          "data": {
            "text/plain": [
              "True"
            ]
          },
          "metadata": {},
          "execution_count": 54
        }
      ]
    },
    {
      "cell_type": "markdown",
      "id": "44081b9d",
      "metadata": {
        "id": "44081b9d"
      },
      "source": [
        "¿Puedo utilizar los operadores lógicos con string?"
      ]
    },
    {
      "cell_type": "markdown",
      "id": "2753da58",
      "metadata": {
        "id": "2753da58"
      },
      "source": [
        "Para evaluar más de una condición simultáneamente, se utilizan operadores lógicos. Estos son:\n",
        "\n",
        "*   AND lógico. \t\t**`and`**\n",
        "*   OR lógico. \t\t  **`or`**\n",
        "*   NOT. negación. \t**`not`**"
      ]
    },
    {
      "cell_type": "markdown",
      "id": "e174a8c5",
      "metadata": {
        "id": "e174a8c5"
      },
      "source": [
        "**Ejemplo**"
      ]
    },
    {
      "cell_type": "code",
      "execution_count": null,
      "id": "a4c4be58",
      "metadata": {
        "id": "a4c4be58",
        "colab": {
          "base_uri": "https://localhost:8080/"
        },
        "outputId": "69b707da-21ff-4a1b-cf00-9be4789ddfb7"
      },
      "outputs": [
        {
          "output_type": "stream",
          "name": "stdout",
          "text": [
            "True\n"
          ]
        }
      ],
      "source": [
        "a = True\n",
        "b = False \n",
        "c = True\n",
        "\n",
        "print(a or b)"
      ]
    },
    {
      "cell_type": "markdown",
      "id": "8c0a9a79",
      "metadata": {
        "id": "8c0a9a79"
      },
      "source": [
        "Además de estos operadores, se puede usar el operador **`is`**, que valida la identidad de un objeto. Para entender esto, tenemos que por su parte el operador **`==`** valida la igualdad de contenido de un objeto, mientras que el operador **`is`** valida si dos objetos, además de ser iguales en contenido, contienen la misma referencia en memoria, es decir, valida si son el mismo objeto. Si los valores son primitivas numéricas o lógicas el operador **`is`** retornará **`True`**."
      ]
    },
    {
      "cell_type": "code",
      "execution_count": null,
      "id": "964b442d",
      "metadata": {
        "id": "964b442d",
        "outputId": "6b02804e-7988-4b97-f860-8beb1b904913",
        "colab": {
          "base_uri": "https://localhost:8080/"
        }
      },
      "outputs": [
        {
          "output_type": "stream",
          "name": "stdout",
          "text": [
            "Operador is\n",
            "False\n",
            "True\n"
          ]
        }
      ],
      "source": [
        "# Operador is\n",
        "\n",
        "print('Operador is')\n",
        "a = 1.0\n",
        "b = 1\n",
        "\n",
        "print(a is b) # No tienen el mismo tipo de dato y por lo tanto son objetos distintos.\n",
        "print(a == b) # Contienen el mismo valor al verificar su igualdad."
      ]
    }
  ],
  "metadata": {
    "kernelspec": {
      "display_name": "Python 3 (ipykernel)",
      "language": "python",
      "name": "python3"
    },
    "language_info": {
      "codemirror_mode": {
        "name": "ipython",
        "version": 3
      },
      "file_extension": ".py",
      "mimetype": "text/x-python",
      "name": "python",
      "nbconvert_exporter": "python",
      "pygments_lexer": "ipython3",
      "version": "3.9.7"
    },
    "colab": {
      "name": "Terminado Introduccion a Python - Parte 1.ipynb",
      "provenance": [],
      "include_colab_link": true
    }
  },
  "nbformat": 4,
  "nbformat_minor": 5
}