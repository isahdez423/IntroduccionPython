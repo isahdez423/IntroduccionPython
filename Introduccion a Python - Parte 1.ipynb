{
 "cells": [
  {
   "cell_type": "markdown",
   "id": "f751d016",
   "metadata": {},
   "source": [
    "# Taller de verano: Introducción a Python - Parte 1"
   ]
  },
  {
   "attachments": {
    "image.png": {
     "image/png": "[encoded data removed]"
    }
   },
   "cell_type": "markdown",
   "id": "af1f6dd8",
   "metadata": {},
   "source": [
    "\n",
    "# **Lenguaje de programación Python**\n",
    "---\n",
    "<img src = \"https://www.python.org/static/community_logos/python-logo-inkscape.svg\" alt = \"Python Logo\" width = \"70%\">  </img>\n",
    "\n",
    "\n",
    "Python es un lenguaje de programación de propósito general muy poderoso y flexible, a la vez que sencillo y fácil de aprender. Es un lenguaje de alto nivel, que permite procesar fácilmente todo tipo de estructuras de datos, tanto numéricos como de texto.\n",
    "![image.png](attachment:image.png) Python fue creado a principio de los 1990 desarrollado por Guido Van Rossum a manera de hobby. Este fue un ingeniero holandés se encontraba trabajando en aquel entonces en el Centro de Investigación de Ciencias de la Computación, en Amsterdam. El nombre de Python fue seleccionado del grupo de comedia británico Monty Python, debido a que Guido era un fanático de este."
   ]
  },
  {
   "cell_type": "markdown",
   "id": "07ccf5da",
   "metadata": {},
   "source": [
    "## 1. Comentarios\n",
    "---"
   ]
  },
  {
   "cell_type": "markdown",
   "id": "76ea937e",
   "metadata": {},
   "source": [
    "Un comentario es una línea de texto no ejecutable, esto quiere decir que el compilador o intérprete no la tomará como una línea de código. Los comentarios en Python, así como en otros lenguajes de programación, sirven para dejar pequeñas explicaciones sobre qué es lo que hace el programa."
   ]
  },
  {
   "cell_type": "code",
   "execution_count": null,
   "id": "7a5b64a7",
   "metadata": {},
   "outputs": [],
   "source": [
    "# Hola, estoy comentando en Python\n",
    "print(\"Mostramos esto por pantalla\") #Aquí se mejora la comprensión del código "
   ]
  },
  {
   "cell_type": "markdown",
   "id": "f522902f",
   "metadata": {},
   "source": [
    "A continuación, se crea una cadena de texto multilínea la cual no se asigna a ninguna variable. Al no asignarse a una variable su uso es nulo y por esta razón, podemos utilizarla para realizar comentarios."
   ]
  },
  {
   "cell_type": "code",
   "execution_count": 15,
   "id": "f71b93c6",
   "metadata": {},
   "outputs": [
    {
     "data": {
      "text/plain": [
       "'\\nHola, soy un comentario\\ncon varias líneas\\n'"
      ]
     },
     "execution_count": 15,
     "metadata": {},
     "output_type": "execute_result"
    }
   ],
   "source": [
    "'''\n",
    "Hola, soy un comentario\n",
    "con varias líneas\n",
    "'''"
   ]
  },
  {
   "cell_type": "markdown",
   "id": "5984602e",
   "metadata": {},
   "source": [
    "> **Nota:** Técnicamente las expresiones con la notación con tres comillas `'''` no son comentarios validos de *Python*, pero en la mayoría de casos se comportan de manera similar y se pueden utilizar como tal.\n"
   ]
  },
  {
   "cell_type": "markdown",
   "id": "012f948c",
   "metadata": {},
   "source": [
    "## 2. Entrada y salida"
   ]
  },
  {
   "cell_type": "markdown",
   "id": "742d6d4d",
   "metadata": {},
   "source": [
    "Los programas escritos en *Python* y los entornos de ejecución (como *Google Colab*) permiten al usuario interactuar de formas distintas. El usuario introduce información en forma de archivos, datos en la nube, o acciones de periféricos como el teclado y ratón, y los entornos de ejecución ejecutan el programa de *Python*. En consecuencia, le devuelven al usuario una respuesta en forma de texto, imagen o contenidos interactivos complejos. A continuación, conocera las funciones de **entrada y salida de texto**. Las más comunes y más útiles en los primeros pasos del aprendizaje del lenguaje son las funciones **`input`** y **`print`**.\n",
    "\n",
    "Cuando se ejecuta  **`input()`**  la consola de Python espera que se le entregue texto, que puede escribir con su teclado o pegar del portapapeles, para luego hacer algo con este, como almacenarlo en una variable. Por otro lado,  **`print()`**  escribirá en consola texto que este almacenado previamente."
   ]
  },
  {
   "cell_type": "code",
   "execution_count": 24,
   "id": "c051fe9b",
   "metadata": {},
   "outputs": [
    {
     "name": "stdout",
     "output_type": "stream",
     "text": [
      "Hola. ¿Cómo te llamas?\n",
      "isa\n"
     ]
    }
   ],
   "source": [
    "nombre = input('Hola. ¿Cómo te llamas?\\n')"
   ]
  },
  {
   "cell_type": "code",
   "execution_count": null,
   "id": "ef7f19b2",
   "metadata": {},
   "outputs": [],
   "source": [
    "print(\"¿Cómo se llama?\")\n",
    "nombre = input()\n",
    "print(f\"Me alegro de conocerle, {nombre}\")\n"
   ]
  },
  {
   "cell_type": "markdown",
   "id": "b33c758b",
   "metadata": {},
   "source": [
    "**Nota:** De forma predeterminada, la función input()  siempre que lee algún dato, lo retorna como un string, incluso aunque sea un número válido y por ejemplo, si intentamos hacer operaciones, se producirá un error."
   ]
  },
  {
   "cell_type": "code",
   "execution_count": null,
   "id": "11db15a9",
   "metadata": {},
   "outputs": [],
   "source": [
    "cantidad = input(\"Dígame una cantidad en pesetas: \")\n",
    "print(f\"{cantidad} pesetas son {round(cantidad / 166.386, 2)} euros\")"
   ]
  },
  {
   "cell_type": "markdown",
   "id": "5fb7a585",
   "metadata": {},
   "source": [
    "Para evitar lo mencionado anteriormente, se debe convertir el dato a número (float o int) según lo que se requiera en el programa. Veamos entonces cómo leer y convertir los números de la entrada en Python."
   ]
  },
  {
   "cell_type": "markdown",
   "id": "8f3c733f",
   "metadata": {},
   "source": [
    "**Ejemplo:** Si se quiere que Python interprete la entrada como un número entero, se debe utilizar la función int() de la siguiente manera:"
   ]
  },
  {
   "cell_type": "code",
   "execution_count": null,
   "id": "97620011",
   "metadata": {},
   "outputs": [],
   "source": [
    "cantidad = int(input(\"Dígame una cantidad en pesetas: \"))\n",
    "print(f\"{cantidad} pesetas son {round(cantidad / 166.386, 2)} euros\")"
   ]
  },
  {
   "cell_type": "markdown",
   "id": "20890d84",
   "metadata": {},
   "source": [
    "**Ejemplo:** Modifique el código anterior de tal manera que Python interprete la entrada como un float e imprima el valor con un redondeo de 3 dígitos."
   ]
  },
  {
   "cell_type": "markdown",
   "id": "43504d07",
   "metadata": {},
   "source": [
    "## **3. Tipos de dato y operadores**\n",
    "---\n",
    "\n",
    "El tipo de un dato es un atributo que determina qué operaciones se pueden realizar y qué valores puede tomar. Estos pueden ser números, listas, texto, entre otros. En *Python*, los tipos de dato no son definidos explícitamente, pero siempre están presentes en las variables que declaramos y es necesario tenerlos en cuenta. En particular, el tipo de dato define las operaciones válidas entre datos del mismo tipo. Estas operaciones están definidas con el uso de símbolos llamados **operadores**.\n",
    "\n",
    "Para conocer el tipo de dato de una variable, se usa la función **`type`**.\n"
   ]
  },
  {
   "cell_type": "markdown",
   "id": "88615c79",
   "metadata": {},
   "source": [
    "### **3.1. Cadenas de texto**\n",
    "---\n",
    "Un tipo de dato muy importante es el de las cadenas de texto. Estas cadenas permiten almacenar en un mismo dato texto con cualquier cantidad de caracteres. Para definir una cadena de texto, se rodea el texto con comillas simples `'` o comillas dobles `\"`."
   ]
  },
  {
   "cell_type": "code",
   "execution_count": null,
   "id": "d89a58f0",
   "metadata": {},
   "outputs": [],
   "source": [
    "'cadena con comilla simple'"
   ]
  },
  {
   "cell_type": "code",
   "execution_count": null,
   "id": "fb68ab74",
   "metadata": {},
   "outputs": [],
   "source": [
    "\"cadena con comillas dobles\""
   ]
  },
  {
   "cell_type": "markdown",
   "id": "e889e620",
   "metadata": {},
   "source": [
    "Las cadenas se pueden almacenar en variables, así:"
   ]
  },
  {
   "cell_type": "code",
   "execution_count": null,
   "id": "559ea21b",
   "metadata": {},
   "outputs": [],
   "source": [
    "c = ' ¡Pontificia Universidad Javeriana Cali! '"
   ]
  },
  {
   "cell_type": "code",
   "execution_count": null,
   "id": "589215b7",
   "metadata": {},
   "outputs": [],
   "source": [
    "print(c)"
   ]
  },
  {
   "cell_type": "markdown",
   "id": "211da97d",
   "metadata": {},
   "source": [
    "Algunos operadores de los usados para valores numéricos también sirven al operar con *strings* pero con utilidad distinta:\n",
    "\n",
    "\n",
    "*  Concatenación `+`. \n",
    "*  Repetición `*`. \n",
    "*  Formato `%`. "
   ]
  },
  {
   "cell_type": "markdown",
   "id": "a1df1547",
   "metadata": {},
   "source": [
    "#### Concatenación"
   ]
  },
  {
   "cell_type": "markdown",
   "id": "50466eab",
   "metadata": {},
   "source": [
    "#### Repetición"
   ]
  },
  {
   "cell_type": "markdown",
   "id": "06371e12",
   "metadata": {},
   "source": [
    "#### Formato"
   ]
  },
  {
   "cell_type": "markdown",
   "id": "d07a6a71",
   "metadata": {},
   "source": [
    "Este operador permite reemplazar los marcadores de posición (%_) dentro de la string con la o las variables que se encuentren después del operador (%)."
   ]
  },
  {
   "cell_type": "code",
   "execution_count": 28,
   "id": "53c28cfd",
   "metadata": {},
   "outputs": [
    {
     "name": "stdout",
     "output_type": "stream",
     "text": [
      "el resultado de raíz cuadrada de dos es 1.414214\n"
     ]
    }
   ],
   "source": [
    "tipo_calculo = \"raíz cuadrada de dos\"\n",
    "valor = 2**0.5\n",
    "print (\"el resultado de %s es %f\" % (tipo_calculo, valor))"
   ]
  },
  {
   "cell_type": "markdown",
   "id": "a52bfa77",
   "metadata": {},
   "source": [
    "Las cadenas, como objetos que son, nos proporcionan métodos que nos facilitan su manipulación. Por ejemplo, siendo **`s`** una variable con un **`string`**:"
   ]
  },
  {
   "cell_type": "markdown",
   "id": "6a7a2780",
   "metadata": {},
   "source": [
    "\n",
    "*  **`s.lower()`** : Retorna la cadena con todos los caracteres alfabéticos en minúscula.\n",
    "*  **`s.upper()`** : Retorna la cadena con todos los caracteres alfabéticos en mayúscula.\n",
    "*  **`s.replace(a, b)`** : Reemplaza las subcadenas iguales a la cadena **`a`** con el valor de la cadena **`b`**.\n",
    "*  **`s.strip()`** : Retorna la cadena con todos los espacios en blanco al principio y al final removidos.\n",
    "*  **`s.islower()`** : Determina si la cadena está compuesta solo por caracteres en mayúscula.\n",
    "*  **`s.isupper()`** : Determina si la cadena está compuesta solo por caracteres en mayúscula.\n",
    "*  **`s.isdigit()`** : Determina si la cadena está compuesta solo por dígitos del 0 al 9.\n",
    "*  **`s.isalpha()`** : Determina si la cadena está compuesta solo por caracteres alfabéticos."
   ]
  },
  {
   "cell_type": "markdown",
   "id": "2fbc80fa",
   "metadata": {},
   "source": [
    "Cada uno de los caracteres de una cadena (incluidos los espacios) tiene asignado un índice. Este indice nos permite seleccionar su carácter asociado haciendo referencia a él entre corchetes ([  ])"
   ]
  },
  {
   "attachments": {
    "image.png": {
     "image/png": "[encoded data removed]"
    }
   },
   "cell_type": "markdown",
   "id": "411592f8",
   "metadata": {},
   "source": [
    "![image.png](attachment:image.png)\n"
   ]
  },
  {
   "cell_type": "markdown",
   "id": "5feee3b0",
   "metadata": {},
   "source": [
    "### **3.2. Valores y operadores numéricos**\n",
    "---"
   ]
  },
  {
   "cell_type": "markdown",
   "id": "e529cb63",
   "metadata": {},
   "source": [
    "En *Python*, los valores numéricos pueden ser de tres formas:\n",
    "\n",
    "*   Números enteros. **(int)**\n",
    "*   Números decimales. **(float)**\n",
    "*   Números complejos. **(complex)**"
   ]
  },
  {
   "cell_type": "code",
   "execution_count": null,
   "id": "8f37ed90",
   "metadata": {},
   "outputs": [],
   "source": [
    "a = 10     \t      #int\n",
    "print(a)\n",
    "print(type(a))"
   ]
  },
  {
   "cell_type": "code",
   "execution_count": null,
   "id": "cd450c36",
   "metadata": {},
   "outputs": [],
   "source": [
    "a = -1089 \t      #int - Se pueden escribir números negativos con el símbolo ‘-’\n",
    "print(a)\n",
    "print(type(a))"
   ]
  },
  {
   "cell_type": "code",
   "execution_count": 1,
   "id": "91ae8e1d",
   "metadata": {},
   "outputs": [
    {
     "name": "stdout",
     "output_type": "stream",
     "text": [
      "1e+100\n",
      "<class 'float'>\n"
     ]
    }
   ],
   "source": [
    "a = 1e100 \t      #float - Esta sintaxis representa notación científica.\n",
    "print(a)\n",
    "print(type(a))"
   ]
  },
  {
   "cell_type": "code",
   "execution_count": 2,
   "id": "8385e0f3",
   "metadata": {},
   "outputs": [
    {
     "name": "stdout",
     "output_type": "stream",
     "text": [
      "(1+0.2j)\n",
      "<class 'complex'>\n"
     ]
    }
   ],
   "source": [
    "a = 1 + 0.2j      #complex\n",
    "print(a)\n",
    "print(type(a))"
   ]
  },
  {
   "cell_type": "markdown",
   "id": "4c175887",
   "metadata": {},
   "source": [
    "Como obtener la parte real e imaginaria de un numero complejo:"
   ]
  },
  {
   "cell_type": "code",
   "execution_count": 1,
   "id": "bb789335",
   "metadata": {},
   "outputs": [
    {
     "data": {
      "text/plain": [
       "2.0"
      ]
     },
     "execution_count": 1,
     "metadata": {},
     "output_type": "execute_result"
    }
   ],
   "source": [
    "(2.0+8.0j).real"
   ]
  },
  {
   "cell_type": "code",
   "execution_count": 2,
   "id": "4b8d3e16",
   "metadata": {},
   "outputs": [
    {
     "data": {
      "text/plain": [
       "5.3"
      ]
     },
     "execution_count": 2,
     "metadata": {},
     "output_type": "execute_result"
    }
   ],
   "source": [
    "(4.0+5.3j).imag"
   ]
  },
  {
   "cell_type": "markdown",
   "id": "93e8bdd7",
   "metadata": {},
   "source": [
    "Existen varios operadores matemáticos para estos valores numéricos. Estos son:"
   ]
  },
  {
   "cell_type": "markdown",
   "id": "82a486bf",
   "metadata": {},
   "source": [
    "Simbolos |Operaciones \n",
    "-----|-----\n",
    " +| suma\n",
    "*|Multiplicación\n",
    "/|División de numeros flotantes\n",
    "//|División de números enteros\n",
    "%|Módulo\n",
    "**|Exponencial"
   ]
  },
  {
   "cell_type": "markdown",
   "id": "020b0618",
   "metadata": {},
   "source": [
    "## Operados logicos \n",
    "\n",
    "Otro tipo de dato importante es el **booleano**, que representa un valor lógico de verdad. Puede tomar únicamente estos dos valores:\n",
    "\n",
    "*  Verdadero: `True`\n",
    "*  Falso: `False`\n",
    "\n",
    "\n",
    "En *Python*, a diferencia de otros lenguajes de programación, las primitivas lógicas son escritas con la primera letra en mayúscula.\n",
    "\n",
    "Además de con el uso de las dos primitivas lógicas (**`True`** y **`False`**), se pueden obtener valores lógicos con la evaluación de expresiones con **operadores relacionales**. Los cuales se encuentran a continuación:\n",
    "\n",
    "Simbolos |Operaciones \n",
    "-----|-----\n",
    " == | Igual\n",
    " != | Diferente\n",
    " < | Menor que\n",
    " <= | Menor igual que\n",
    " $>$ | Mayor que\n",
    " $>=$ | Mayor e igual que"
   ]
  },
  {
   "cell_type": "code",
   "execution_count": 29,
   "id": "b437e3ed",
   "metadata": {},
   "outputs": [
    {
     "name": "stdout",
     "output_type": "stream",
     "text": [
      "False\n"
     ]
    }
   ],
   "source": [
    "print(-10  >   4.0)  # Mayor que.   "
   ]
  },
  {
   "cell_type": "code",
   "execution_count": 30,
   "id": "b98dad16",
   "metadata": {},
   "outputs": [
    {
     "name": "stdout",
     "output_type": "stream",
     "text": [
      "True\n"
     ]
    }
   ],
   "source": [
    "print(-10  !=  4.0)  # Distinto que."
   ]
  },
  {
   "cell_type": "markdown",
   "id": "44081b9d",
   "metadata": {},
   "source": [
    "¿Puedo utilizar los operadores lógicos con string?"
   ]
  },
  {
   "cell_type": "markdown",
   "id": "2753da58",
   "metadata": {},
   "source": [
    "Para evaluar más de una condición simultáneamente, se utilizan operadores lógicos. Estos son:\n",
    "\n",
    "*   AND lógico. \t\t**`and`**\n",
    "*   OR lógico. \t\t  **`or`**\n",
    "*   NOT. negación. \t**`not`**"
   ]
  },
  {
   "cell_type": "markdown",
   "id": "e174a8c5",
   "metadata": {},
   "source": [
    "**Ejemplo**"
   ]
  },
  {
   "cell_type": "code",
   "execution_count": null,
   "id": "a4c4be58",
   "metadata": {},
   "outputs": [],
   "source": []
  },
  {
   "cell_type": "markdown",
   "id": "8c0a9a79",
   "metadata": {},
   "source": [
    "Además de estos operadores, se puede usar el operador **`is`**, que valida la identidad de un objeto. Para entender esto, tenemos que por su parte el operador **`==`** valida la igualdad de contenido de un objeto, mientras que el operador **`is`** valida si dos objetos, además de ser iguales en contenido, contienen la misma referencia en memoria, es decir, valida si son el mismo objeto. Si los valores son primitivas numéricas o lógicas el operador **`is`** retornará **`True`**."
   ]
  },
  {
   "cell_type": "code",
   "execution_count": 35,
   "id": "964b442d",
   "metadata": {},
   "outputs": [
    {
     "name": "stdout",
     "output_type": "stream",
     "text": [
      "Operador is\n",
      "False\n",
      "True\n"
     ]
    }
   ],
   "source": [
    "# Operador is\n",
    "\n",
    "print('Operador is')\n",
    "a = 1.0\n",
    "b = 1\n",
    "\n",
    "print(a is b) # No tienen el mismo tipo de dato y por lo tanto son objetos distintos.\n",
    "print(a == b) # Contienen el mismo valor al verificar su igualdad."
   ]
  }
 ],
 "metadata": {
  "kernelspec": {
   "display_name": "Python 3 (ipykernel)",
   "language": "python",
   "name": "python3"
  },
  "language_info": {
   "codemirror_mode": {
    "name": "ipython",
    "version": 3
   },
   "file_extension": ".py",
   "mimetype": "text/x-python",
   "name": "python",
   "nbconvert_exporter": "python",
   "pygments_lexer": "ipython3",
   "version": "3.9.7"
  }
 },
 "nbformat": 4,
 "nbformat_minor": 5
}
